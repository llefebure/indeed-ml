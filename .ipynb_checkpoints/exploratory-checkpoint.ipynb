{
 "cells": [
  {
   "cell_type": "markdown",
   "metadata": {},
   "source": [
    "# Indeed Machine Learning Hackathon - Exploratory Analysis"
   ]
  },
  {
   "cell_type": "markdown",
   "metadata": {},
   "source": [
    "This notebook walks through some initial analysis and baseline scoring that I did."
   ]
  },
  {
   "cell_type": "code",
   "execution_count": 52,
   "metadata": {
    "collapsed": false
   },
   "outputs": [],
   "source": [
    "import preprocessing as pp\n",
    "import re\n",
    "from IPython.display import display\n",
    "from sklearn.preprocessing import MultiLabelBinarizer\n",
    "import pandas as pd\n",
    "import numpy as np"
   ]
  },
  {
   "cell_type": "code",
   "execution_count": 53,
   "metadata": {
    "collapsed": false
   },
   "outputs": [],
   "source": [
    "train = pp.JobDescriptionDataset(\"./data/train.tsv\")"
   ]
  },
  {
   "cell_type": "code",
   "execution_count": 54,
   "metadata": {
    "collapsed": false
   },
   "outputs": [],
   "source": [
    "dt_matrix = train.getDTMatrix()"
   ]
  },
  {
   "cell_type": "markdown",
   "metadata": {},
   "source": [
    "### Descriptive Analysis"
   ]
  },
  {
   "cell_type": "markdown",
   "metadata": {},
   "source": [
    "First, I look at the tag frequency in the training set."
   ]
  },
  {
   "cell_type": "code",
   "execution_count": 55,
   "metadata": {
    "collapsed": false
   },
   "outputs": [
    {
     "data": {
      "text/html": [
       "<div>\n",
       "<table border=\"1\" class=\"dataframe\">\n",
       "  <thead>\n",
       "    <tr style=\"text-align: right;\">\n",
       "      <th></th>\n",
       "      <th>Tag</th>\n",
       "      <th>Frequency</th>\n",
       "    </tr>\n",
       "  </thead>\n",
       "  <tbody>\n",
       "    <tr>\n",
       "      <th>0</th>\n",
       "      <td>2-4-years-experience-needed</td>\n",
       "      <td>1043</td>\n",
       "    </tr>\n",
       "    <tr>\n",
       "      <th>1</th>\n",
       "      <td>bs-degree-needed</td>\n",
       "      <td>970</td>\n",
       "    </tr>\n",
       "    <tr>\n",
       "      <th>2</th>\n",
       "      <td>full-time-job</td>\n",
       "      <td>885</td>\n",
       "    </tr>\n",
       "    <tr>\n",
       "      <th>3</th>\n",
       "      <td>supervising-job</td>\n",
       "      <td>751</td>\n",
       "    </tr>\n",
       "    <tr>\n",
       "      <th>4</th>\n",
       "      <td>salary</td>\n",
       "      <td>669</td>\n",
       "    </tr>\n",
       "    <tr>\n",
       "      <th>5</th>\n",
       "      <td>5-plus-years-experience-needed</td>\n",
       "      <td>636</td>\n",
       "    </tr>\n",
       "    <tr>\n",
       "      <th>6</th>\n",
       "      <td>licence-needed</td>\n",
       "      <td>524</td>\n",
       "    </tr>\n",
       "    <tr>\n",
       "      <th>7</th>\n",
       "      <td>hourly-wage</td>\n",
       "      <td>451</td>\n",
       "    </tr>\n",
       "    <tr>\n",
       "      <th>8</th>\n",
       "      <td>1-year-experience-needed</td>\n",
       "      <td>331</td>\n",
       "    </tr>\n",
       "    <tr>\n",
       "      <th>9</th>\n",
       "      <td>part-time-job</td>\n",
       "      <td>328</td>\n",
       "    </tr>\n",
       "    <tr>\n",
       "      <th>10</th>\n",
       "      <td>associate-needed</td>\n",
       "      <td>209</td>\n",
       "    </tr>\n",
       "    <tr>\n",
       "      <th>11</th>\n",
       "      <td>ms-or-phd-needed</td>\n",
       "      <td>83</td>\n",
       "    </tr>\n",
       "  </tbody>\n",
       "</table>\n",
       "</div>"
      ],
      "text/plain": [
       "                               Tag  Frequency\n",
       "0      2-4-years-experience-needed       1043\n",
       "1                 bs-degree-needed        970\n",
       "2                    full-time-job        885\n",
       "3                  supervising-job        751\n",
       "4                           salary        669\n",
       "5   5-plus-years-experience-needed        636\n",
       "6                   licence-needed        524\n",
       "7                      hourly-wage        451\n",
       "8         1-year-experience-needed        331\n",
       "9                    part-time-job        328\n",
       "10                associate-needed        209\n",
       "11                ms-or-phd-needed         83"
      ]
     },
     "metadata": {},
     "output_type": "display_data"
    }
   ],
   "source": [
    "label_cooccurrence = train.getLabelCooccurrence()\n",
    "count_pretty = pd.DataFrame(sorted(zip(pp.LABEL_LIST, label_cooccurence.diagonal()), key = lambda x: -x[1]))\n",
    "count_pretty.columns = [\"Tag\", \"Frequency\"]\n",
    "display(count_pretty)"
   ]
  },
  {
   "cell_type": "code",
   "execution_count": 56,
   "metadata": {
    "collapsed": false
   },
   "outputs": [
    {
     "name": "stdout",
     "output_type": "stream",
     "text": [
      "Average # of tags per sample:  1.57257142857\n"
     ]
    }
   ],
   "source": [
    "print \"Average # of tags per sample: \", 1.*sum(label_cooccurence.diagonal())/dt_matrix.shape[0]"
   ]
  },
  {
   "cell_type": "markdown",
   "metadata": {},
   "source": [
    "There are several training samples that are missing tags. In several cases, it seems like this is in error. For example, several contain the string 'full time' but aren't tagged with 'full-time-job'. Additionally, there are some generic job descriptions that advertise multiple roles and contain phrases like 'part and full time positions available'. It is unclear how these are supposed to be tagged."
   ]
  },
  {
   "cell_type": "code",
   "execution_count": 57,
   "metadata": {
    "collapsed": false
   },
   "outputs": [
    {
     "name": "stdout",
     "output_type": "stream",
     "text": [
      "Number of training samples without tags: 871\n"
     ]
    }
   ],
   "source": [
    "print \"Number of training samples without tags:\", np.sum(np.array(train.getRawY()) == '')"
   ]
  },
  {
   "cell_type": "code",
   "execution_count": 58,
   "metadata": {
    "collapsed": false
   },
   "outputs": [
    {
     "name": "stdout",
     "output_type": "stream",
     "text": [
      "Training samples without tags that contain 'full time': 33\n",
      "Training samples without tags that contain 'part time': 28\n"
     ]
    }
   ],
   "source": [
    "descriptions_missing_tags = np.array(train.getRawX())[np.array(train.getRawY()) == '']\n",
    "contain_full_time = [re.search(\".*full time.*\", d) is not None for d in descriptions_missing_tags]\n",
    "contain_part_time = [re.search(\".*part time.*\", d) is not None for d in descriptions_missing_tags]\n",
    "print \"Training samples without tags that contain 'full time':\", sum(contain_full_time)\n",
    "print \"Training samples without tags that contain 'part time':\", sum(contain_part_time)"
   ]
  },
  {
   "cell_type": "code",
   "execution_count": 59,
   "metadata": {
    "collapsed": false
   },
   "outputs": [
    {
     "data": {
      "text/plain": [
       "'ByteManagers is seeking Drill tool industrial supply  experts for long-term part and full time contract positions. Are you a product expert? Can you look at a picture of a drill bit, tooling component or motor and describe the product you\\xe2\\x80\\x99re looking at in minutes? Do you know what matters to a person looking to purchase a pair of industrial gloves or ball valve? If yes \\xe2\\x80\\x93 we\\xe2\\x80\\x99re looking for you. Skills:  \\xe2\\x80\\xa2 Expert knowledge of industrial supplies \\xe2\\x80\\xa2 Ability to identify products in detail by looking at an image \\xe2\\x80\\xa2 Knowledge of product features that are critical to the customer \\xe2\\x80\\xa2 Ability to learn new software   Headquarters: Chicago Candidate Location: Chicago (Preferable) Possibility of working remotely: ok but not desirable '"
      ]
     },
     "execution_count": 59,
     "metadata": {},
     "output_type": "execute_result"
    }
   ],
   "source": [
    "descriptions_missing_tags[3]"
   ]
  },
  {
   "cell_type": "markdown",
   "metadata": {},
   "source": [
    "As mentioned in the problem description, there are several tags that are mutually exclusive. The table below shows the cooccurrence frequency of various tags in the training set. The (i,j) element of this matrix indicates the proportion of samples in which the i'th tag was assigned given that the j'th tag was assigned."
   ]
  },
  {
   "cell_type": "markdown",
   "metadata": {},
   "source": [
    "We see that the following tuples are mutually exclusive. Note that 'full-time-job' and 'part-time-job' never cooccur, but there are job descriptions such as the one above that advertise \"part and full time positions\".\n",
    "* '1-year-experience-needed', '2-4-years-experience-neeed', '5-plus-years-experience-needed'\n",
    "* 'bs-degree-needed', 'associate-needed', 'ms-or-pd-needed', 'license-needed'\n",
    "* 'salary', 'hourly-wage'\n",
    "* 'full-time-job', 'part-time-job'"
   ]
  },
  {
   "cell_type": "code",
   "execution_count": 60,
   "metadata": {
    "collapsed": false
   },
   "outputs": [
    {
     "ename": "NameError",
     "evalue": "name 'label_cooccurrence' is not defined",
     "output_type": "error",
     "traceback": [
      "\u001b[0;31m---------------------------------------------------------------------------\u001b[0m",
      "\u001b[0;31mNameError\u001b[0m                                 Traceback (most recent call last)",
      "\u001b[0;32m<ipython-input-60-a310daa2c17e>\u001b[0m in \u001b[0;36m<module>\u001b[0;34m()\u001b[0m\n\u001b[0;32m----> 1\u001b[0;31m \u001b[0mlabel_cooccurrence_scaled\u001b[0m \u001b[0;34m=\u001b[0m \u001b[0mlabel_cooccurrence\u001b[0m \u001b[0;34m*\u001b[0m \u001b[0;36m1.\u001b[0m\u001b[0;34m/\u001b[0m\u001b[0mlabel_cooccurrence\u001b[0m\u001b[0;34m.\u001b[0m\u001b[0mdiagonal\u001b[0m\u001b[0;34m(\u001b[0m\u001b[0;34m)\u001b[0m\u001b[0;34m\u001b[0m\u001b[0m\n\u001b[0m\u001b[1;32m      2\u001b[0m \u001b[0mlabel_cooccurrence_pretty\u001b[0m \u001b[0;34m=\u001b[0m \u001b[0mpd\u001b[0m\u001b[0;34m.\u001b[0m\u001b[0mDataFrame\u001b[0m\u001b[0;34m(\u001b[0m\u001b[0mlabel_cooccurrence_scaled\u001b[0m\u001b[0;34m)\u001b[0m\u001b[0;34m\u001b[0m\u001b[0m\n\u001b[1;32m      3\u001b[0m \u001b[0mlabel_cooccurrence_pretty\u001b[0m\u001b[0;34m.\u001b[0m\u001b[0mcolumns\u001b[0m \u001b[0;34m=\u001b[0m \u001b[0mpp\u001b[0m\u001b[0;34m.\u001b[0m\u001b[0mLABEL_LIST\u001b[0m\u001b[0;34m\u001b[0m\u001b[0m\n\u001b[1;32m      4\u001b[0m \u001b[0mlabel_cooccurrence_pretty\u001b[0m\u001b[0;34m.\u001b[0m\u001b[0mindex\u001b[0m \u001b[0;34m=\u001b[0m \u001b[0mpp\u001b[0m\u001b[0;34m.\u001b[0m\u001b[0mLABEL_LIST\u001b[0m\u001b[0;34m\u001b[0m\u001b[0m\n\u001b[1;32m      5\u001b[0m \u001b[0mdisplay\u001b[0m\u001b[0;34m(\u001b[0m\u001b[0mlabel_cooccurrence_pretty\u001b[0m\u001b[0;34m)\u001b[0m\u001b[0;34m\u001b[0m\u001b[0m\n",
      "\u001b[0;31mNameError\u001b[0m: name 'label_cooccurrence' is not defined"
     ]
    }
   ],
   "source": [
    "label_cooccurrence_scaled = label_cooccurrence * 1./label_cooccurrence.diagonal()\n",
    "label_cooccurrence_pretty = pd.DataFrame(label_cooccurrence_scaled)\n",
    "label_cooccurrence_pretty.columns = pp.LABEL_LIST\n",
    "label_cooccurrence_pretty.index = pp.LABEL_LIST\n",
    "display(label_cooccurrence_pretty)"
   ]
  },
  {
   "cell_type": "markdown",
   "metadata": {},
   "source": [
    "### Baselines"
   ]
  },
  {
   "cell_type": "markdown",
   "metadata": {},
   "source": [
    "I start by generating training scores for a few baseline models for comparison. "
   ]
  },
  {
   "cell_type": "markdown",
   "metadata": {},
   "source": [
    "#### Frequency Model"
   ]
  },
  {
   "cell_type": "markdown",
   "metadata": {},
   "source": [
    "These models simply predict the top N most frequent labels for N = {1, 2, 3, 4} for all samples."
   ]
  },
  {
   "cell_type": "code",
   "execution_count": null,
   "metadata": {
    "collapsed": false
   },
   "outputs": [],
   "source": [
    "def baselineScore(tag, trueY):\n",
    "    binarizer = MultiLabelBinarizer(classes = pp.LABEL_LIST)\n",
    "    return pp.score(trueY, binarizer.fit_transform([tag.split(\" \")]*trueY.shape[0]))"
   ]
  },
  {
   "cell_type": "code",
   "execution_count": null,
   "metadata": {
    "collapsed": false
   },
   "outputs": [],
   "source": [
    "trueY = train.getBinarizedLabels()\n",
    "tag_predictions = ['2-4-years-experience-needed', '2-4-years-experience-needed bs-degree-needed', \n",
    "                   '2-4-years-experience-needed bs-degree-needed full-time-job', \n",
    "                   '2-4-years-experience-needed bs-degree-needed full-time-job supervising-job']\n",
    "for i, t in enumerate(tag_predictions):\n",
    "    print \"PopularTag%s -\" % str(i + 1), baselineScore(t, trueY)"
   ]
  },
  {
   "cell_type": "markdown",
   "metadata": {},
   "source": [
    "#### Keyword Model"
   ]
  },
  {
   "cell_type": "markdown",
   "metadata": {},
   "source": [
    "Next, I'll look at the terms (unigrams/bigrams) most highly correlated with each label and build a model that predicts based off of the presence of correlated terms. More specifically, if a sample contains the top two terms for a given tag, then that sample is assigned that tag."
   ]
  },
  {
   "cell_type": "code",
   "execution_count": null,
   "metadata": {
    "collapsed": true
   },
   "outputs": [],
   "source": [
    "corr_matrix = train.getCorrelationMatrix()\n",
    "corr_matrix_sort = (-corr_matrix).argsort()\n",
    "term_names = train.getTermNames()"
   ]
  },
  {
   "cell_type": "code",
   "execution_count": null,
   "metadata": {
    "collapsed": false
   },
   "outputs": [],
   "source": [
    "top_terms = list()\n",
    "for i, t in enumerate(corr_matrix_sort[:, :5].tolist()):\n",
    "    top_terms.append([pp.LABEL_LIST[i]] + [term_names[j] for j in t])"
   ]
  },
  {
   "cell_type": "code",
   "execution_count": null,
   "metadata": {
    "collapsed": false
   },
   "outputs": [],
   "source": [
    "top_terms_table = pd.DataFrame(top_terms)\n",
    "top_terms_table.columns = [\"Tag\"] + [\"Term %s\" % str(i) for i in range(1, 6)]\n",
    "display(top_terms_table)"
   ]
  },
  {
   "cell_type": "code",
   "execution_count": null,
   "metadata": {
    "collapsed": true
   },
   "outputs": [],
   "source": [
    "def topKeywordModel(dt_matrix, corr_matrix):\n",
    "    train_preds = list()\n",
    "    corr_matrix_sort = (-corr_matrix).argsort()\n",
    "    for i in range(dt_matrix.shape[0]):\n",
    "        pred = list()\n",
    "        for j in range(len(pp.LABEL_LIST)):\n",
    "            top_terms = corr_matrix_sort[j, :2].tolist()[0]\n",
    "            if dt_matrix[i, top_terms[0]] == 1 and dt_matrix[i, top_terms[1]] == 1:\n",
    "                pred.append(pp.LABEL_LIST[j])\n",
    "        train_preds.append(pred)\n",
    "    return MultiLabelBinarizer(classes = pp.LABEL_LIST).fit_transform(train_preds)"
   ]
  },
  {
   "cell_type": "code",
   "execution_count": null,
   "metadata": {
    "collapsed": false
   },
   "outputs": [],
   "source": [
    "train_preds = topKeywordModel(dt_matrix, corr_matrix)\n",
    "print \"Top Correlated Keyword - \", pp.score(train.getBinarizedLabels(), train_preds)"
   ]
  },
  {
   "cell_type": "code",
   "execution_count": null,
   "metadata": {
    "collapsed": false
   },
   "outputs": [],
   "source": [
    "print \"Average # of tags per prediction: \", 1.*train_preds.sum()/train_preds.shape[0]"
   ]
  },
  {
   "cell_type": "markdown",
   "metadata": {},
   "source": [
    "The keyword based model scores very highly in precision but suffers in recall. This makes sense since the model is fairly conservative. It only predicts a tag when a very specific and obvious set of keywords is present which limits the number of false positives, but this comes at the expense of a large number of false negatives. Another consequence of this conservativeness is that very few tags overall are predicted. The average number of tags per prediction is only about 31% of the average number of true tags per sample in the training set."
   ]
  }
 ],
 "metadata": {
  "anaconda-cloud": {},
  "kernelspec": {
   "display_name": "Python [Root]",
   "language": "python",
   "name": "Python [Root]"
  },
  "language_info": {
   "codemirror_mode": {
    "name": "ipython",
    "version": 2
   },
   "file_extension": ".py",
   "mimetype": "text/x-python",
   "name": "python",
   "nbconvert_exporter": "python",
   "pygments_lexer": "ipython2",
   "version": "2.7.12"
  }
 },
 "nbformat": 4,
 "nbformat_minor": 0
}
