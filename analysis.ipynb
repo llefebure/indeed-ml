{
 "cells": [
  {
   "cell_type": "markdown",
   "metadata": {},
   "source": [
    "# Indeed Machine Learning Hackathon"
   ]
  },
  {
   "cell_type": "code",
   "execution_count": 1,
   "metadata": {
    "collapsed": false
   },
   "outputs": [],
   "source": [
    "import preprocessing as pp\n",
    "import re\n",
    "from IPython.display import display\n",
    "from sklearn.model_selection import train_test_split\n",
    "from sklearn.multiclass import OneVsRestClassifier\n",
    "from sklearn.svm import SVC\n",
    "from sklearn.linear_model import LogisticRegression\n",
    "import pandas as pd\n",
    "import numpy as np\n",
    "import matplotlib.pyplot as plt\n",
    "%matplotlib inline"
   ]
  },
  {
   "cell_type": "code",
   "execution_count": 2,
   "metadata": {
    "collapsed": false
   },
   "outputs": [],
   "source": [
    "train = pp.JobDescriptionDataset(\"./data/train.tsv\")"
   ]
  },
  {
   "cell_type": "code",
   "execution_count": 3,
   "metadata": {
    "collapsed": false
   },
   "outputs": [],
   "source": [
    "dt_matrix = train.getDTMatrix()\n",
    "corr_matrix = train.getCorrelationMatrix()"
   ]
  },
  {
   "cell_type": "code",
   "execution_count": 4,
   "metadata": {
    "collapsed": true
   },
   "outputs": [],
   "source": [
    "corr_matrix_sort = (-corr_matrix).argsort()\n",
    "term_names = train.getTermNames()"
   ]
  },
  {
   "cell_type": "markdown",
   "metadata": {},
   "source": [
    "### Descriptive Analysis"
   ]
  },
  {
   "cell_type": "markdown",
   "metadata": {},
   "source": [
    "There are several training samples that are missing tags. In several cases, it seems like this is in error. For example, several contain the string 'full time' but aren't tagged with 'full-time-job'."
   ]
  },
  {
   "cell_type": "code",
   "execution_count": 5,
   "metadata": {
    "collapsed": false
   },
   "outputs": [
    {
     "name": "stdout",
     "output_type": "stream",
     "text": [
      "Number of training samples without tags: 871\n"
     ]
    }
   ],
   "source": [
    "print \"Number of training samples without tags:\", np.sum(np.array(train.getRawY()) == '')"
   ]
  },
  {
   "cell_type": "code",
   "execution_count": 6,
   "metadata": {
    "collapsed": false
   },
   "outputs": [
    {
     "name": "stdout",
     "output_type": "stream",
     "text": [
      "Training samples without tags that contain 'full time': 33\n"
     ]
    }
   ],
   "source": [
    "descriptions_missing_tags = np.array(train.getRawX())[np.array(train.getRawY()) == '']\n",
    "contain_full_time = [re.search(\".*full time.*\", d) is not None for d in descriptions_missing_tags]\n",
    "print \"Training samples without tags that contain 'full time':\", sum(contain_full_time)"
   ]
  },
  {
   "cell_type": "markdown",
   "metadata": {},
   "source": [
    "As mentioned in the problem description, there are several tags that are mutually exclusive. The table below shows the cooccurrence of various tags in the training set. The (i,j) element of this matrix indicates the proportion of samples in which the i'th tag was assigned given that the j'th tag was assigned."
   ]
  },
  {
   "cell_type": "markdown",
   "metadata": {},
   "source": [
    "We see that the following tuples are mutually exclusive:\n",
    "* '1-year-experience-needed', '2-4-years-experience-neeed', '5-plus-years-experience-needed'\n",
    "* 'bs-degree-needed', 'associate-needed', 'ms-or-pd-needed', 'license-needed'\n",
    "* 'salary', 'hourly-wage'\n",
    "* 'full-time-job', 'part-time-job'"
   ]
  },
  {
   "cell_type": "code",
   "execution_count": 7,
   "metadata": {
    "collapsed": false
   },
   "outputs": [
    {
     "data": {
      "text/html": [
       "<div>\n",
       "<table border=\"1\" class=\"dataframe\">\n",
       "  <thead>\n",
       "    <tr style=\"text-align: right;\">\n",
       "      <th></th>\n",
       "      <th>1-year-experience-needed</th>\n",
       "      <th>2-4-years-experience-needed</th>\n",
       "      <th>5-plus-years-experience-needed</th>\n",
       "      <th>associate-needed</th>\n",
       "      <th>bs-degree-needed</th>\n",
       "      <th>full-time-job</th>\n",
       "      <th>hourly-wage</th>\n",
       "      <th>licence-needed</th>\n",
       "      <th>ms-or-phd-needed</th>\n",
       "      <th>part-time-job</th>\n",
       "      <th>salary</th>\n",
       "      <th>supervising-job</th>\n",
       "    </tr>\n",
       "  </thead>\n",
       "  <tbody>\n",
       "    <tr>\n",
       "      <th>1-year-experience-needed</th>\n",
       "      <td>1.000000</td>\n",
       "      <td>0.000000</td>\n",
       "      <td>0.000000</td>\n",
       "      <td>0.095694</td>\n",
       "      <td>0.067010</td>\n",
       "      <td>0.094915</td>\n",
       "      <td>0.079823</td>\n",
       "      <td>0.129771</td>\n",
       "      <td>0.060241</td>\n",
       "      <td>0.088415</td>\n",
       "      <td>0.074738</td>\n",
       "      <td>0.037284</td>\n",
       "    </tr>\n",
       "    <tr>\n",
       "      <th>2-4-years-experience-needed</th>\n",
       "      <td>0.000000</td>\n",
       "      <td>1.000000</td>\n",
       "      <td>0.000000</td>\n",
       "      <td>0.416268</td>\n",
       "      <td>0.358763</td>\n",
       "      <td>0.263277</td>\n",
       "      <td>0.146341</td>\n",
       "      <td>0.202290</td>\n",
       "      <td>0.253012</td>\n",
       "      <td>0.121951</td>\n",
       "      <td>0.272048</td>\n",
       "      <td>0.335553</td>\n",
       "    </tr>\n",
       "    <tr>\n",
       "      <th>5-plus-years-experience-needed</th>\n",
       "      <td>0.000000</td>\n",
       "      <td>0.000000</td>\n",
       "      <td>1.000000</td>\n",
       "      <td>0.119617</td>\n",
       "      <td>0.329897</td>\n",
       "      <td>0.149153</td>\n",
       "      <td>0.053215</td>\n",
       "      <td>0.080153</td>\n",
       "      <td>0.253012</td>\n",
       "      <td>0.018293</td>\n",
       "      <td>0.164425</td>\n",
       "      <td>0.304927</td>\n",
       "    </tr>\n",
       "    <tr>\n",
       "      <th>associate-needed</th>\n",
       "      <td>0.060423</td>\n",
       "      <td>0.083413</td>\n",
       "      <td>0.039308</td>\n",
       "      <td>1.000000</td>\n",
       "      <td>0.000000</td>\n",
       "      <td>0.055367</td>\n",
       "      <td>0.044346</td>\n",
       "      <td>0.000000</td>\n",
       "      <td>0.000000</td>\n",
       "      <td>0.045732</td>\n",
       "      <td>0.047833</td>\n",
       "      <td>0.046605</td>\n",
       "    </tr>\n",
       "    <tr>\n",
       "      <th>bs-degree-needed</th>\n",
       "      <td>0.196375</td>\n",
       "      <td>0.333653</td>\n",
       "      <td>0.503145</td>\n",
       "      <td>0.000000</td>\n",
       "      <td>1.000000</td>\n",
       "      <td>0.231638</td>\n",
       "      <td>0.082040</td>\n",
       "      <td>0.000000</td>\n",
       "      <td>0.000000</td>\n",
       "      <td>0.060976</td>\n",
       "      <td>0.267564</td>\n",
       "      <td>0.368842</td>\n",
       "    </tr>\n",
       "    <tr>\n",
       "      <th>full-time-job</th>\n",
       "      <td>0.253776</td>\n",
       "      <td>0.223394</td>\n",
       "      <td>0.207547</td>\n",
       "      <td>0.234450</td>\n",
       "      <td>0.211340</td>\n",
       "      <td>1.000000</td>\n",
       "      <td>0.303769</td>\n",
       "      <td>0.204198</td>\n",
       "      <td>0.277108</td>\n",
       "      <td>0.000000</td>\n",
       "      <td>0.388640</td>\n",
       "      <td>0.223702</td>\n",
       "    </tr>\n",
       "    <tr>\n",
       "      <th>hourly-wage</th>\n",
       "      <td>0.108761</td>\n",
       "      <td>0.063279</td>\n",
       "      <td>0.037736</td>\n",
       "      <td>0.095694</td>\n",
       "      <td>0.038144</td>\n",
       "      <td>0.154802</td>\n",
       "      <td>1.000000</td>\n",
       "      <td>0.068702</td>\n",
       "      <td>0.000000</td>\n",
       "      <td>0.347561</td>\n",
       "      <td>0.000000</td>\n",
       "      <td>0.039947</td>\n",
       "    </tr>\n",
       "    <tr>\n",
       "      <th>licence-needed</th>\n",
       "      <td>0.205438</td>\n",
       "      <td>0.101630</td>\n",
       "      <td>0.066038</td>\n",
       "      <td>0.000000</td>\n",
       "      <td>0.000000</td>\n",
       "      <td>0.120904</td>\n",
       "      <td>0.079823</td>\n",
       "      <td>1.000000</td>\n",
       "      <td>0.000000</td>\n",
       "      <td>0.125000</td>\n",
       "      <td>0.131540</td>\n",
       "      <td>0.083888</td>\n",
       "    </tr>\n",
       "    <tr>\n",
       "      <th>ms-or-phd-needed</th>\n",
       "      <td>0.015106</td>\n",
       "      <td>0.020134</td>\n",
       "      <td>0.033019</td>\n",
       "      <td>0.000000</td>\n",
       "      <td>0.000000</td>\n",
       "      <td>0.025989</td>\n",
       "      <td>0.000000</td>\n",
       "      <td>0.000000</td>\n",
       "      <td>1.000000</td>\n",
       "      <td>0.006098</td>\n",
       "      <td>0.029895</td>\n",
       "      <td>0.035952</td>\n",
       "    </tr>\n",
       "    <tr>\n",
       "      <th>part-time-job</th>\n",
       "      <td>0.087613</td>\n",
       "      <td>0.038351</td>\n",
       "      <td>0.009434</td>\n",
       "      <td>0.071770</td>\n",
       "      <td>0.020619</td>\n",
       "      <td>0.000000</td>\n",
       "      <td>0.252772</td>\n",
       "      <td>0.078244</td>\n",
       "      <td>0.024096</td>\n",
       "      <td>1.000000</td>\n",
       "      <td>0.025411</td>\n",
       "      <td>0.015979</td>\n",
       "    </tr>\n",
       "    <tr>\n",
       "      <th>salary</th>\n",
       "      <td>0.151057</td>\n",
       "      <td>0.174497</td>\n",
       "      <td>0.172956</td>\n",
       "      <td>0.153110</td>\n",
       "      <td>0.184536</td>\n",
       "      <td>0.293785</td>\n",
       "      <td>0.000000</td>\n",
       "      <td>0.167939</td>\n",
       "      <td>0.240964</td>\n",
       "      <td>0.051829</td>\n",
       "      <td>1.000000</td>\n",
       "      <td>0.222370</td>\n",
       "    </tr>\n",
       "    <tr>\n",
       "      <th>supervising-job</th>\n",
       "      <td>0.084592</td>\n",
       "      <td>0.241611</td>\n",
       "      <td>0.360063</td>\n",
       "      <td>0.167464</td>\n",
       "      <td>0.285567</td>\n",
       "      <td>0.189831</td>\n",
       "      <td>0.066519</td>\n",
       "      <td>0.120229</td>\n",
       "      <td>0.325301</td>\n",
       "      <td>0.036585</td>\n",
       "      <td>0.249626</td>\n",
       "      <td>1.000000</td>\n",
       "    </tr>\n",
       "  </tbody>\n",
       "</table>\n",
       "</div>"
      ],
      "text/plain": [
       "                                1-year-experience-needed  \\\n",
       "1-year-experience-needed                        1.000000   \n",
       "2-4-years-experience-needed                     0.000000   \n",
       "5-plus-years-experience-needed                  0.000000   \n",
       "associate-needed                                0.060423   \n",
       "bs-degree-needed                                0.196375   \n",
       "full-time-job                                   0.253776   \n",
       "hourly-wage                                     0.108761   \n",
       "licence-needed                                  0.205438   \n",
       "ms-or-phd-needed                                0.015106   \n",
       "part-time-job                                   0.087613   \n",
       "salary                                          0.151057   \n",
       "supervising-job                                 0.084592   \n",
       "\n",
       "                                2-4-years-experience-needed  \\\n",
       "1-year-experience-needed                           0.000000   \n",
       "2-4-years-experience-needed                        1.000000   \n",
       "5-plus-years-experience-needed                     0.000000   \n",
       "associate-needed                                   0.083413   \n",
       "bs-degree-needed                                   0.333653   \n",
       "full-time-job                                      0.223394   \n",
       "hourly-wage                                        0.063279   \n",
       "licence-needed                                     0.101630   \n",
       "ms-or-phd-needed                                   0.020134   \n",
       "part-time-job                                      0.038351   \n",
       "salary                                             0.174497   \n",
       "supervising-job                                    0.241611   \n",
       "\n",
       "                                5-plus-years-experience-needed  \\\n",
       "1-year-experience-needed                              0.000000   \n",
       "2-4-years-experience-needed                           0.000000   \n",
       "5-plus-years-experience-needed                        1.000000   \n",
       "associate-needed                                      0.039308   \n",
       "bs-degree-needed                                      0.503145   \n",
       "full-time-job                                         0.207547   \n",
       "hourly-wage                                           0.037736   \n",
       "licence-needed                                        0.066038   \n",
       "ms-or-phd-needed                                      0.033019   \n",
       "part-time-job                                         0.009434   \n",
       "salary                                                0.172956   \n",
       "supervising-job                                       0.360063   \n",
       "\n",
       "                                associate-needed  bs-degree-needed  \\\n",
       "1-year-experience-needed                0.095694          0.067010   \n",
       "2-4-years-experience-needed             0.416268          0.358763   \n",
       "5-plus-years-experience-needed          0.119617          0.329897   \n",
       "associate-needed                        1.000000          0.000000   \n",
       "bs-degree-needed                        0.000000          1.000000   \n",
       "full-time-job                           0.234450          0.211340   \n",
       "hourly-wage                             0.095694          0.038144   \n",
       "licence-needed                          0.000000          0.000000   \n",
       "ms-or-phd-needed                        0.000000          0.000000   \n",
       "part-time-job                           0.071770          0.020619   \n",
       "salary                                  0.153110          0.184536   \n",
       "supervising-job                         0.167464          0.285567   \n",
       "\n",
       "                                full-time-job  hourly-wage  licence-needed  \\\n",
       "1-year-experience-needed             0.094915     0.079823        0.129771   \n",
       "2-4-years-experience-needed          0.263277     0.146341        0.202290   \n",
       "5-plus-years-experience-needed       0.149153     0.053215        0.080153   \n",
       "associate-needed                     0.055367     0.044346        0.000000   \n",
       "bs-degree-needed                     0.231638     0.082040        0.000000   \n",
       "full-time-job                        1.000000     0.303769        0.204198   \n",
       "hourly-wage                          0.154802     1.000000        0.068702   \n",
       "licence-needed                       0.120904     0.079823        1.000000   \n",
       "ms-or-phd-needed                     0.025989     0.000000        0.000000   \n",
       "part-time-job                        0.000000     0.252772        0.078244   \n",
       "salary                               0.293785     0.000000        0.167939   \n",
       "supervising-job                      0.189831     0.066519        0.120229   \n",
       "\n",
       "                                ms-or-phd-needed  part-time-job    salary  \\\n",
       "1-year-experience-needed                0.060241       0.088415  0.074738   \n",
       "2-4-years-experience-needed             0.253012       0.121951  0.272048   \n",
       "5-plus-years-experience-needed          0.253012       0.018293  0.164425   \n",
       "associate-needed                        0.000000       0.045732  0.047833   \n",
       "bs-degree-needed                        0.000000       0.060976  0.267564   \n",
       "full-time-job                           0.277108       0.000000  0.388640   \n",
       "hourly-wage                             0.000000       0.347561  0.000000   \n",
       "licence-needed                          0.000000       0.125000  0.131540   \n",
       "ms-or-phd-needed                        1.000000       0.006098  0.029895   \n",
       "part-time-job                           0.024096       1.000000  0.025411   \n",
       "salary                                  0.240964       0.051829  1.000000   \n",
       "supervising-job                         0.325301       0.036585  0.249626   \n",
       "\n",
       "                                supervising-job  \n",
       "1-year-experience-needed               0.037284  \n",
       "2-4-years-experience-needed            0.335553  \n",
       "5-plus-years-experience-needed         0.304927  \n",
       "associate-needed                       0.046605  \n",
       "bs-degree-needed                       0.368842  \n",
       "full-time-job                          0.223702  \n",
       "hourly-wage                            0.039947  \n",
       "licence-needed                         0.083888  \n",
       "ms-or-phd-needed                       0.035952  \n",
       "part-time-job                          0.015979  \n",
       "salary                                 0.222370  \n",
       "supervising-job                        1.000000  "
      ]
     },
     "metadata": {},
     "output_type": "display_data"
    }
   ],
   "source": [
    "label_cooccurrence = train.getLabelCooccurrence()\n",
    "label_cooccurrence_pretty = pd.DataFrame(label_cooccurrence)\n",
    "label_cooccurrence_pretty.columns = pp.LABEL_LIST\n",
    "label_cooccurrence_pretty.index = pp.LABEL_LIST\n",
    "display(label_cooccurrence_pretty)"
   ]
  },
  {
   "cell_type": "markdown",
   "metadata": {},
   "source": [
    "### Baseline Scoring"
   ]
  },
  {
   "cell_type": "code",
   "execution_count": 8,
   "metadata": {
    "collapsed": true
   },
   "outputs": [],
   "source": [
    "def baselineScore(tag, trueY):\n",
    "    return pp.score([tag]*len(trueY), trueY)"
   ]
  },
  {
   "cell_type": "code",
   "execution_count": 9,
   "metadata": {
    "collapsed": false
   },
   "outputs": [
    {
     "name": "stdout",
     "output_type": "stream",
     "text": [
      "PopularTag1: (0.2384, 0.1515988372093023, 0.18533984895601954)\n",
      "PopularTag2: (0.23005714285714285, 0.29258720930232557, 0.25758157389635317)\n",
      "PopularTag3: (0.2208, 0.42122093023255813, 0.289727568107973)\n",
      "PopularTag4: (0.2085142857142857, 0.5303779069767441, 0.2993437243642329)\n"
     ]
    }
   ],
   "source": [
    "trueY = train.getRawY()\n",
    "tag_predictions = ['2-4-years-experience-needed', '2-4-years-experience-needed bs-degree-needed', \n",
    "                   '2-4-years-experience-needed bs-degree-needed full-time-job', \n",
    "                   '2-4-years-experience-needed bs-degree-needed full-time-job supervising-job']\n",
    "for i, t in enumerate(tag_predictions):\n",
    "    print \"PopularTag%s:\" % str(i + 1), baselineScore(t, trueY)"
   ]
  },
  {
   "cell_type": "markdown",
   "metadata": {},
   "source": [
    "### Keyword Model"
   ]
  },
  {
   "cell_type": "markdown",
   "metadata": {},
   "source": [
    "First, I'll look at the terms (unigrams/bigrams) most highly correlated with each label."
   ]
  },
  {
   "cell_type": "code",
   "execution_count": 10,
   "metadata": {
    "collapsed": false
   },
   "outputs": [],
   "source": [
    "top_terms = list()\n",
    "for i, t in enumerate(corr_matrix_sort[:, :5].tolist()):\n",
    "    top_terms.append([pp.LABEL_LIST[i]] + [term_names[j] for j in t])"
   ]
  },
  {
   "cell_type": "code",
   "execution_count": 11,
   "metadata": {
    "collapsed": false
   },
   "outputs": [
    {
     "data": {
      "text/html": [
       "<div>\n",
       "<table border=\"1\" class=\"dataframe\">\n",
       "  <thead>\n",
       "    <tr style=\"text-align: right;\">\n",
       "      <th></th>\n",
       "      <th>Tag</th>\n",
       "      <th>Term 1</th>\n",
       "      <th>Term 2</th>\n",
       "      <th>Term 3</th>\n",
       "      <th>Term 4</th>\n",
       "      <th>Term 5</th>\n",
       "    </tr>\n",
       "  </thead>\n",
       "  <tbody>\n",
       "    <tr>\n",
       "      <th>0</th>\n",
       "      <td>1-year-experience-needed</td>\n",
       "      <td>1 year</td>\n",
       "      <td>year</td>\n",
       "      <td>1</td>\n",
       "      <td>year of</td>\n",
       "      <td>1 year of</td>\n",
       "    </tr>\n",
       "    <tr>\n",
       "      <th>1</th>\n",
       "      <td>2-4-years-experience-needed</td>\n",
       "      <td>years</td>\n",
       "      <td>2 years</td>\n",
       "      <td>3 years</td>\n",
       "      <td>years of</td>\n",
       "      <td>2</td>\n",
       "    </tr>\n",
       "    <tr>\n",
       "      <th>2</th>\n",
       "      <td>5-plus-years-experience-needed</td>\n",
       "      <td>5 years</td>\n",
       "      <td>5</td>\n",
       "      <td>years</td>\n",
       "      <td>5 years of</td>\n",
       "      <td>5 years experience</td>\n",
       "    </tr>\n",
       "    <tr>\n",
       "      <th>3</th>\n",
       "      <td>associate-needed</td>\n",
       "      <td>associates degree</td>\n",
       "      <td>associates</td>\n",
       "      <td>associates degree or</td>\n",
       "      <td>degree</td>\n",
       "      <td>associates degree in</td>\n",
       "    </tr>\n",
       "    <tr>\n",
       "      <th>4</th>\n",
       "      <td>bs-degree-needed</td>\n",
       "      <td>degree</td>\n",
       "      <td>bachelors</td>\n",
       "      <td>bachelors degree</td>\n",
       "      <td>degree in</td>\n",
       "      <td>bachelor</td>\n",
       "    </tr>\n",
       "    <tr>\n",
       "      <th>5</th>\n",
       "      <td>full-time-job</td>\n",
       "      <td>full-time</td>\n",
       "      <td>full time</td>\n",
       "      <td>a full-time</td>\n",
       "      <td>full</td>\n",
       "      <td>a full time</td>\n",
       "    </tr>\n",
       "    <tr>\n",
       "      <th>6</th>\n",
       "      <td>hourly-wage</td>\n",
       "      <td>hour</td>\n",
       "      <td>per hour</td>\n",
       "      <td>hourly</td>\n",
       "      <td>00</td>\n",
       "      <td>00 per hour</td>\n",
       "    </tr>\n",
       "    <tr>\n",
       "      <th>7</th>\n",
       "      <td>licence-needed</td>\n",
       "      <td>nurse</td>\n",
       "      <td>rn</td>\n",
       "      <td>licensed</td>\n",
       "      <td>care</td>\n",
       "      <td>nursing</td>\n",
       "    </tr>\n",
       "    <tr>\n",
       "      <th>8</th>\n",
       "      <td>ms-or-phd-needed</td>\n",
       "      <td>masters</td>\n",
       "      <td>masters degree</td>\n",
       "      <td>masters degree in</td>\n",
       "      <td>clinical</td>\n",
       "      <td>of clinical</td>\n",
       "    </tr>\n",
       "    <tr>\n",
       "      <th>9</th>\n",
       "      <td>part-time-job</td>\n",
       "      <td>part time</td>\n",
       "      <td>part-time</td>\n",
       "      <td>a part time</td>\n",
       "      <td>a part-time</td>\n",
       "      <td>week</td>\n",
       "    </tr>\n",
       "    <tr>\n",
       "      <th>10</th>\n",
       "      <td>salary</td>\n",
       "      <td>salary</td>\n",
       "      <td>competitive salary</td>\n",
       "      <td>benefits</td>\n",
       "      <td>000</td>\n",
       "      <td>base salary</td>\n",
       "    </tr>\n",
       "    <tr>\n",
       "      <th>11</th>\n",
       "      <td>supervising-job</td>\n",
       "      <td>manager</td>\n",
       "      <td>leadership</td>\n",
       "      <td>management</td>\n",
       "      <td>management experience</td>\n",
       "      <td>ensure</td>\n",
       "    </tr>\n",
       "  </tbody>\n",
       "</table>\n",
       "</div>"
      ],
      "text/plain": [
       "                               Tag             Term 1              Term 2  \\\n",
       "0         1-year-experience-needed             1 year                year   \n",
       "1      2-4-years-experience-needed              years             2 years   \n",
       "2   5-plus-years-experience-needed            5 years                   5   \n",
       "3                 associate-needed  associates degree          associates   \n",
       "4                 bs-degree-needed             degree           bachelors   \n",
       "5                    full-time-job          full-time           full time   \n",
       "6                      hourly-wage               hour            per hour   \n",
       "7                   licence-needed              nurse                  rn   \n",
       "8                 ms-or-phd-needed            masters      masters degree   \n",
       "9                    part-time-job          part time           part-time   \n",
       "10                          salary             salary  competitive salary   \n",
       "11                 supervising-job            manager          leadership   \n",
       "\n",
       "                  Term 3                 Term 4                Term 5  \n",
       "0                      1                year of             1 year of  \n",
       "1                3 years               years of                     2  \n",
       "2                  years             5 years of    5 years experience  \n",
       "3   associates degree or                 degree  associates degree in  \n",
       "4       bachelors degree              degree in              bachelor  \n",
       "5            a full-time                   full           a full time  \n",
       "6                 hourly                     00           00 per hour  \n",
       "7               licensed                   care               nursing  \n",
       "8      masters degree in               clinical           of clinical  \n",
       "9            a part time            a part-time                  week  \n",
       "10              benefits                    000           base salary  \n",
       "11            management  management experience                ensure  "
      ]
     },
     "metadata": {},
     "output_type": "display_data"
    }
   ],
   "source": [
    "top_terms_table = pd.DataFrame(top_terms)\n",
    "top_terms_table.columns = [\"Tag\"] + [\"Term %s\" % str(i) for i in range(1, 6)]\n",
    "display(top_terms_table)"
   ]
  },
  {
   "cell_type": "markdown",
   "metadata": {},
   "source": [
    "Next, I'll build a model that predicts based off of the presence of correlated terms. More specifically, if a sample contains the top two terms for a given tag, then that sample is assigned that tag."
   ]
  },
  {
   "cell_type": "code",
   "execution_count": 12,
   "metadata": {
    "collapsed": true
   },
   "outputs": [],
   "source": [
    "def topKeywordModel(dt_matrix, corr_matrix):\n",
    "    train_preds = list()\n",
    "    corr_matrix_sort = (-corr_matrix).argsort()\n",
    "    for i in range(dt_matrix.shape[0]):\n",
    "        pred = list()\n",
    "        for j in range(len(pp.LABEL_LIST)):\n",
    "            top_terms = corr_matrix_sort[j, :2].tolist()[0]\n",
    "            if dt_matrix[i, top_terms[0]] == 1 and dt_matrix[i, top_terms[1]] == 1:\n",
    "                pred.append(pp.LABEL_LIST[j])\n",
    "        train_preds.append(\" \".join(pred))\n",
    "    return train_preds"
   ]
  },
  {
   "cell_type": "code",
   "execution_count": 13,
   "metadata": {
    "collapsed": false
   },
   "outputs": [
    {
     "name": "stdout",
     "output_type": "stream",
     "text": [
      "Top Correlated Keyword: (0.755586592178771, 0.23590116279069767, 0.35954807266282673)\n"
     ]
    }
   ],
   "source": [
    "train_preds = topKeywordModel(dt_matrix, corr_matrix)\n",
    "print \"Top Correlated Keyword:\", pp.score(train_preds, train.getRawY())"
   ]
  },
  {
   "cell_type": "markdown",
   "metadata": {},
   "source": [
    "### Build Validation and Test Set"
   ]
  },
  {
   "cell_type": "code",
   "execution_count": 14,
   "metadata": {
    "collapsed": true
   },
   "outputs": [],
   "source": [
    "top_terms = np.array(list(set(corr_matrix_sort[:, :15].flatten().tolist()[0])))"
   ]
  },
  {
   "cell_type": "code",
   "execution_count": 15,
   "metadata": {
    "collapsed": false
   },
   "outputs": [
    {
     "name": "stdout",
     "output_type": "stream",
     "text": [
      "(4375, 171)\n"
     ]
    }
   ],
   "source": [
    "X = train.getDTMatrix()\n",
    "X = X[:, top_terms]\n",
    "print X.shape"
   ]
  },
  {
   "cell_type": "code",
   "execution_count": 16,
   "metadata": {
    "collapsed": true
   },
   "outputs": [],
   "source": [
    "y = train.getBinarizedLabels()"
   ]
  },
  {
   "cell_type": "code",
   "execution_count": 17,
   "metadata": {
    "collapsed": true
   },
   "outputs": [],
   "source": [
    "X_train, X_val, y_train, y_val = train_test_split(X, y, test_size=0.3, random_state=24)"
   ]
  },
  {
   "cell_type": "code",
   "execution_count": 18,
   "metadata": {
    "collapsed": true
   },
   "outputs": [],
   "source": [
    "y_train_str = pp.labelMatrixToString(y_train.todense().tolist())\n",
    "y_val_str = pp.labelMatrixToString(y_val.todense().tolist())"
   ]
  },
  {
   "cell_type": "code",
   "execution_count": 19,
   "metadata": {
    "collapsed": false
   },
   "outputs": [],
   "source": [
    "non_empty_samples = np.array(y_train_str) != ''\n",
    "X_train_drop_neg = X_train[non_empty_samples]\n",
    "y_train_drop_neg = y_train[non_empty_samples]"
   ]
  },
  {
   "cell_type": "code",
   "execution_count": 20,
   "metadata": {
    "collapsed": true
   },
   "outputs": [],
   "source": [
    "test = pp.JobDescriptionDataset(\"./data/test.tsv\")"
   ]
  },
  {
   "cell_type": "code",
   "execution_count": 21,
   "metadata": {
    "collapsed": false
   },
   "outputs": [],
   "source": [
    "test.setDTMatrix(vocab = np.array(train.getTermNames())[top_terms])\n",
    "X_test = test.getDTMatrix()"
   ]
  },
  {
   "cell_type": "markdown",
   "metadata": {
    "collapsed": false
   },
   "source": [
    "### OneVsRest SVM"
   ]
  },
  {
   "cell_type": "code",
   "execution_count": 22,
   "metadata": {
    "collapsed": false
   },
   "outputs": [],
   "source": [
    "ovr_svm = OneVsRestClassifier(SVC(kernel = 'linear', probability = True, random_state = 20))"
   ]
  },
  {
   "cell_type": "code",
   "execution_count": 23,
   "metadata": {
    "collapsed": false
   },
   "outputs": [
    {
     "data": {
      "text/plain": [
       "OneVsRestClassifier(estimator=SVC(C=1.0, cache_size=200, class_weight=None, coef0=0.0,\n",
       "  decision_function_shape=None, degree=3, gamma='auto', kernel='linear',\n",
       "  max_iter=-1, probability=True, random_state=20, shrinking=True,\n",
       "  tol=0.001, verbose=False),\n",
       "          n_jobs=1)"
      ]
     },
     "execution_count": 23,
     "metadata": {},
     "output_type": "execute_result"
    }
   ],
   "source": [
    "ovr_svm.fit(X_train, y_train)"
   ]
  },
  {
   "cell_type": "code",
   "execution_count": 24,
   "metadata": {
    "collapsed": false
   },
   "outputs": [],
   "source": [
    "pred_matrix = ovr_svm.predict(X_val)"
   ]
  },
  {
   "cell_type": "code",
   "execution_count": 25,
   "metadata": {
    "collapsed": false
   },
   "outputs": [],
   "source": [
    "pred_str = pp.labelMatrixToString(pred_matrix.todense().tolist())"
   ]
  },
  {
   "cell_type": "code",
   "execution_count": 26,
   "metadata": {
    "collapsed": false
   },
   "outputs": [
    {
     "name": "stdout",
     "output_type": "stream",
     "text": [
      "Validation Score: (0.7626582278481012, 0.589242053789731, 0.6648275862068965)\n",
      "Training Score: (0.8188079470198676, 0.6392967942088935, 0.7180023228803716)\n"
     ]
    }
   ],
   "source": [
    "print \"Validation Score:\", pp.score(pred_str, y_val_str)\n",
    "print \"Training Score:\", pp.score(pp.labelMatrixToString(ovr_svm.predict(X_train).todense().tolist()), y_train_str)"
   ]
  },
  {
   "cell_type": "markdown",
   "metadata": {},
   "source": [
    "The precision is higher than the recall for this model which shows that it fails to predict many tags but does relatively well when it does predict a tag. This means that the model could likely benefit from predicting more tags to boost the true positive rate at the expense of increasing the false positive rate."
   ]
  },
  {
   "cell_type": "markdown",
   "metadata": {},
   "source": [
    "In addition, the average number of tags predicted per sample in the validation set is significantly lower than the average number of tags per sample in the training set. This is another indication that the model could benefit from predicting more tags."
   ]
  },
  {
   "cell_type": "code",
   "execution_count": 27,
   "metadata": {
    "collapsed": false
   },
   "outputs": [
    {
     "name": "stdout",
     "output_type": "stream",
     "text": [
      "Average Tags Per Validation Prediction: 1.20335110434\n",
      "Average Tags Per Training Sample: 1.57903331156\n"
     ]
    }
   ],
   "source": [
    "print \"Average Tags Per Validation Prediction:\", 1.*pred_matrix.sum()/pred_matrix.shape[0]\n",
    "print \"Average Tags Per Training Sample:\", 1.*y_train.sum()/y_train.shape[0]"
   ]
  },
  {
   "cell_type": "markdown",
   "metadata": {
    "collapsed": false
   },
   "source": [
    "We can do this by using SVM's probability estimates and lowering the threshold at which a sample is predicted to have a certain tag. We can choose this threshold by looking at performance results on the validation set using various threshold values."
   ]
  },
  {
   "cell_type": "code",
   "execution_count": 28,
   "metadata": {
    "collapsed": false
   },
   "outputs": [],
   "source": [
    "pred_matrix_prob = ovr_svm.predict_proba(X_val)\n",
    "pred_matrix_prob = pp.prunedProbMatrix(pred_matrix_prob)"
   ]
  },
  {
   "cell_type": "code",
   "execution_count": 29,
   "metadata": {
    "collapsed": false
   },
   "outputs": [],
   "source": [
    "grid_result = list()\n",
    "for i in [.17 + incr for incr in np.divide(range(25), 100.)]:\n",
    "    row = [i, 1.*(pred_matrix_prob > i).sum()/pred_matrix_prob.shape[0]]\n",
    "    pred_matrix = pred_matrix_prob > i\n",
    "    row += list(pp.score(pp.labelMatrixToString(pred_matrix), y_val_str))\n",
    "    grid_result.append(row)\n",
    "grid_result = np.array(grid_result)"
   ]
  },
  {
   "cell_type": "code",
   "execution_count": 30,
   "metadata": {
    "collapsed": false
   },
   "outputs": [
    {
     "data": {
      "text/html": [
       "<div>\n",
       "<table border=\"1\" class=\"dataframe\">\n",
       "  <thead>\n",
       "    <tr style=\"text-align: right;\">\n",
       "      <th></th>\n",
       "      <th>Threshold</th>\n",
       "      <th>Avg. Tags Per Prediction</th>\n",
       "      <th>Val. Precision</th>\n",
       "      <th>Val. Recall</th>\n",
       "      <th>Val. F1</th>\n",
       "    </tr>\n",
       "  </thead>\n",
       "  <tbody>\n",
       "    <tr>\n",
       "      <th>0</th>\n",
       "      <td>0.17</td>\n",
       "      <td>1.779893</td>\n",
       "      <td>0.629867</td>\n",
       "      <td>0.719804</td>\n",
       "      <td>0.671839</td>\n",
       "    </tr>\n",
       "    <tr>\n",
       "      <th>1</th>\n",
       "      <td>0.18</td>\n",
       "      <td>1.722772</td>\n",
       "      <td>0.645004</td>\n",
       "      <td>0.713447</td>\n",
       "      <td>0.677502</td>\n",
       "    </tr>\n",
       "    <tr>\n",
       "      <th>2</th>\n",
       "      <td>0.19</td>\n",
       "      <td>1.678599</td>\n",
       "      <td>0.656987</td>\n",
       "      <td>0.708068</td>\n",
       "      <td>0.681572</td>\n",
       "    </tr>\n",
       "    <tr>\n",
       "      <th>3</th>\n",
       "      <td>0.20</td>\n",
       "      <td>1.636710</td>\n",
       "      <td>0.666822</td>\n",
       "      <td>0.700733</td>\n",
       "      <td>0.683357</td>\n",
       "    </tr>\n",
       "    <tr>\n",
       "      <th>4</th>\n",
       "      <td>0.21</td>\n",
       "      <td>1.598629</td>\n",
       "      <td>0.676036</td>\n",
       "      <td>0.693888</td>\n",
       "      <td>0.684846</td>\n",
       "    </tr>\n",
       "    <tr>\n",
       "      <th>5</th>\n",
       "      <td>0.22</td>\n",
       "      <td>1.567403</td>\n",
       "      <td>0.682702</td>\n",
       "      <td>0.687042</td>\n",
       "      <td>0.684865</td>\n",
       "    </tr>\n",
       "    <tr>\n",
       "      <th>6</th>\n",
       "      <td>0.23</td>\n",
       "      <td>1.534653</td>\n",
       "      <td>0.689826</td>\n",
       "      <td>0.679707</td>\n",
       "      <td>0.684729</td>\n",
       "    </tr>\n",
       "    <tr>\n",
       "      <th>7</th>\n",
       "      <td>0.24</td>\n",
       "      <td>1.501904</td>\n",
       "      <td>0.698783</td>\n",
       "      <td>0.673839</td>\n",
       "      <td>0.686084</td>\n",
       "    </tr>\n",
       "    <tr>\n",
       "      <th>8</th>\n",
       "      <td>0.25</td>\n",
       "      <td>1.470678</td>\n",
       "      <td>0.705334</td>\n",
       "      <td>0.666015</td>\n",
       "      <td>0.685111</td>\n",
       "    </tr>\n",
       "    <tr>\n",
       "      <th>9</th>\n",
       "      <td>0.26</td>\n",
       "      <td>1.444021</td>\n",
       "      <td>0.710443</td>\n",
       "      <td>0.658680</td>\n",
       "      <td>0.683583</td>\n",
       "    </tr>\n",
       "    <tr>\n",
       "      <th>10</th>\n",
       "      <td>0.27</td>\n",
       "      <td>1.417365</td>\n",
       "      <td>0.717356</td>\n",
       "      <td>0.652812</td>\n",
       "      <td>0.683564</td>\n",
       "    </tr>\n",
       "    <tr>\n",
       "      <th>11</th>\n",
       "      <td>0.28</td>\n",
       "      <td>1.391470</td>\n",
       "      <td>0.722496</td>\n",
       "      <td>0.645477</td>\n",
       "      <td>0.681818</td>\n",
       "    </tr>\n",
       "    <tr>\n",
       "      <th>12</th>\n",
       "      <td>0.29</td>\n",
       "      <td>1.373953</td>\n",
       "      <td>0.726164</td>\n",
       "      <td>0.640587</td>\n",
       "      <td>0.680696</td>\n",
       "    </tr>\n",
       "    <tr>\n",
       "      <th>13</th>\n",
       "      <td>0.30</td>\n",
       "      <td>1.352628</td>\n",
       "      <td>0.730856</td>\n",
       "      <td>0.634719</td>\n",
       "      <td>0.679403</td>\n",
       "    </tr>\n",
       "    <tr>\n",
       "      <th>14</th>\n",
       "      <td>0.31</td>\n",
       "      <td>1.328256</td>\n",
       "      <td>0.735665</td>\n",
       "      <td>0.627384</td>\n",
       "      <td>0.677224</td>\n",
       "    </tr>\n",
       "    <tr>\n",
       "      <th>15</th>\n",
       "      <td>0.32</td>\n",
       "      <td>1.308454</td>\n",
       "      <td>0.739232</td>\n",
       "      <td>0.621027</td>\n",
       "      <td>0.674993</td>\n",
       "    </tr>\n",
       "    <tr>\n",
       "      <th>16</th>\n",
       "      <td>0.33</td>\n",
       "      <td>1.298553</td>\n",
       "      <td>0.742522</td>\n",
       "      <td>0.619071</td>\n",
       "      <td>0.675200</td>\n",
       "    </tr>\n",
       "    <tr>\n",
       "      <th>17</th>\n",
       "      <td>0.34</td>\n",
       "      <td>1.281797</td>\n",
       "      <td>0.747475</td>\n",
       "      <td>0.615159</td>\n",
       "      <td>0.674893</td>\n",
       "    </tr>\n",
       "    <tr>\n",
       "      <th>18</th>\n",
       "      <td>0.35</td>\n",
       "      <td>1.268088</td>\n",
       "      <td>0.750150</td>\n",
       "      <td>0.610758</td>\n",
       "      <td>0.673315</td>\n",
       "    </tr>\n",
       "    <tr>\n",
       "      <th>19</th>\n",
       "      <td>0.36</td>\n",
       "      <td>1.246763</td>\n",
       "      <td>0.755651</td>\n",
       "      <td>0.604890</td>\n",
       "      <td>0.671917</td>\n",
       "    </tr>\n",
       "    <tr>\n",
       "      <th>20</th>\n",
       "      <td>0.37</td>\n",
       "      <td>1.228484</td>\n",
       "      <td>0.761934</td>\n",
       "      <td>0.600978</td>\n",
       "      <td>0.671952</td>\n",
       "    </tr>\n",
       "    <tr>\n",
       "      <th>21</th>\n",
       "      <td>0.38</td>\n",
       "      <td>1.214014</td>\n",
       "      <td>0.764743</td>\n",
       "      <td>0.596088</td>\n",
       "      <td>0.669964</td>\n",
       "    </tr>\n",
       "    <tr>\n",
       "      <th>22</th>\n",
       "      <td>0.39</td>\n",
       "      <td>1.200305</td>\n",
       "      <td>0.766497</td>\n",
       "      <td>0.590709</td>\n",
       "      <td>0.667219</td>\n",
       "    </tr>\n",
       "    <tr>\n",
       "      <th>23</th>\n",
       "      <td>0.40</td>\n",
       "      <td>1.184311</td>\n",
       "      <td>0.769775</td>\n",
       "      <td>0.585330</td>\n",
       "      <td>0.665000</td>\n",
       "    </tr>\n",
       "    <tr>\n",
       "      <th>24</th>\n",
       "      <td>0.41</td>\n",
       "      <td>1.168317</td>\n",
       "      <td>0.771838</td>\n",
       "      <td>0.578973</td>\n",
       "      <td>0.661637</td>\n",
       "    </tr>\n",
       "  </tbody>\n",
       "</table>\n",
       "</div>"
      ],
      "text/plain": [
       "    Threshold  Avg. Tags Per Prediction  Val. Precision  Val. Recall   Val. F1\n",
       "0        0.17                  1.779893        0.629867     0.719804  0.671839\n",
       "1        0.18                  1.722772        0.645004     0.713447  0.677502\n",
       "2        0.19                  1.678599        0.656987     0.708068  0.681572\n",
       "3        0.20                  1.636710        0.666822     0.700733  0.683357\n",
       "4        0.21                  1.598629        0.676036     0.693888  0.684846\n",
       "5        0.22                  1.567403        0.682702     0.687042  0.684865\n",
       "6        0.23                  1.534653        0.689826     0.679707  0.684729\n",
       "7        0.24                  1.501904        0.698783     0.673839  0.686084\n",
       "8        0.25                  1.470678        0.705334     0.666015  0.685111\n",
       "9        0.26                  1.444021        0.710443     0.658680  0.683583\n",
       "10       0.27                  1.417365        0.717356     0.652812  0.683564\n",
       "11       0.28                  1.391470        0.722496     0.645477  0.681818\n",
       "12       0.29                  1.373953        0.726164     0.640587  0.680696\n",
       "13       0.30                  1.352628        0.730856     0.634719  0.679403\n",
       "14       0.31                  1.328256        0.735665     0.627384  0.677224\n",
       "15       0.32                  1.308454        0.739232     0.621027  0.674993\n",
       "16       0.33                  1.298553        0.742522     0.619071  0.675200\n",
       "17       0.34                  1.281797        0.747475     0.615159  0.674893\n",
       "18       0.35                  1.268088        0.750150     0.610758  0.673315\n",
       "19       0.36                  1.246763        0.755651     0.604890  0.671917\n",
       "20       0.37                  1.228484        0.761934     0.600978  0.671952\n",
       "21       0.38                  1.214014        0.764743     0.596088  0.669964\n",
       "22       0.39                  1.200305        0.766497     0.590709  0.667219\n",
       "23       0.40                  1.184311        0.769775     0.585330  0.665000\n",
       "24       0.41                  1.168317        0.771838     0.578973  0.661637"
      ]
     },
     "metadata": {},
     "output_type": "display_data"
    }
   ],
   "source": [
    "grid_result_pretty = pd.DataFrame(grid_result)\n",
    "grid_result_pretty.columns = [\"Threshold\", \"Avg. Tags Per Prediction\", \"Val. Precision\", \"Val. Recall\", \"Val. F1\"]\n",
    "display(grid_result_pretty)"
   ]
  },
  {
   "cell_type": "code",
   "execution_count": 31,
   "metadata": {
    "collapsed": false
   },
   "outputs": [
    {
     "data": {
      "image/png": "[encoded data removed]",
      "text/plain": [
       "<matplotlib.figure.Figure at 0x1164c91d0>"
      ]
     },
     "metadata": {},
     "output_type": "display_data"
    }
   ],
   "source": [
    "plt.plot(grid_result[:,0], grid_result[:,2:5])\n",
    "plt.legend([\"Val. Precision\", \"Val. Recall\", \"Val. F1\"])\n",
    "plt.xlabel(\"Threshold\")\n",
    "plt.ylabel(\"Score\")\n",
    "plt.show()"
   ]
  },
  {
   "cell_type": "code",
   "execution_count": 32,
   "metadata": {
    "collapsed": false
   },
   "outputs": [
    {
     "name": "stdout",
     "output_type": "stream",
     "text": [
      "Training Score: (0.7496812579685508, 0.7296794208893485, 0.739545121056493)\n"
     ]
    }
   ],
   "source": [
    "print \"Training Score:\", pp.score(pp.labelMatrixToString(ovr_svm.predict_proba(X_train) > .235), y_train_str)"
   ]
  },
  {
   "cell_type": "markdown",
   "metadata": {},
   "source": [
    "I'll fit this model on all the data to make test predictions."
   ]
  },
  {
   "cell_type": "code",
   "execution_count": 33,
   "metadata": {
    "collapsed": false
   },
   "outputs": [
    {
     "data": {
      "text/plain": [
       "OneVsRestClassifier(estimator=SVC(C=1.0, cache_size=200, class_weight=None, coef0=0.0,\n",
       "  decision_function_shape=None, degree=3, gamma='auto', kernel='linear',\n",
       "  max_iter=-1, probability=True, random_state=20, shrinking=True,\n",
       "  tol=0.001, verbose=False),\n",
       "          n_jobs=1)"
      ]
     },
     "execution_count": 33,
     "metadata": {},
     "output_type": "execute_result"
    }
   ],
   "source": [
    "ovr_svm.fit(X, y)"
   ]
  },
  {
   "cell_type": "code",
   "execution_count": 34,
   "metadata": {
    "collapsed": false
   },
   "outputs": [],
   "source": [
    "pred_matrix = ovr_svm.predict_proba(X_test) > .235\n",
    "pred_str = pp.labelMatrixToString(pred_matrix.astype(int))\n",
    "# pp.predStringToFile(pred_str, \"./data/tags.tsv\")"
   ]
  },
  {
   "cell_type": "markdown",
   "metadata": {},
   "source": [
    "### OneVsRest Logistic Regression"
   ]
  },
  {
   "cell_type": "code",
   "execution_count": 35,
   "metadata": {
    "collapsed": true
   },
   "outputs": [],
   "source": [
    "ovr_lr = OneVsRestClassifier(LogisticRegression(random_state = 10))"
   ]
  },
  {
   "cell_type": "code",
   "execution_count": 36,
   "metadata": {
    "collapsed": false
   },
   "outputs": [
    {
     "data": {
      "text/plain": [
       "OneVsRestClassifier(estimator=LogisticRegression(C=1.0, class_weight=None, dual=False, fit_intercept=True,\n",
       "          intercept_scaling=1, max_iter=100, multi_class='ovr', n_jobs=1,\n",
       "          penalty='l2', random_state=10, solver='liblinear', tol=0.0001,\n",
       "          verbose=0, warm_start=False),\n",
       "          n_jobs=1)"
      ]
     },
     "execution_count": 36,
     "metadata": {},
     "output_type": "execute_result"
    }
   ],
   "source": [
    "ovr_lr.fit(X_train, y_train)"
   ]
  },
  {
   "cell_type": "code",
   "execution_count": 37,
   "metadata": {
    "collapsed": true
   },
   "outputs": [],
   "source": [
    "pred_matrix_prob = ovr_lr.predict_proba(X_val)\n",
    "# pred_matrix_prob = pp.prunedProbMatrix(pred_matrix_prob)"
   ]
  },
  {
   "cell_type": "code",
   "execution_count": 38,
   "metadata": {
    "collapsed": true
   },
   "outputs": [],
   "source": [
    "grid_result = list()\n",
    "for i in [.21 + incr for incr in np.divide(range(25), 100.)]:\n",
    "    row = [i, 1.*(pred_matrix_prob > i).sum()/pred_matrix_prob.shape[0]]\n",
    "    pred_matrix = pred_matrix_prob > i\n",
    "    row += list(pp.score(pp.labelMatrixToString(pred_matrix), y_val_str))\n",
    "    grid_result.append(row)\n",
    "grid_result = np.array(grid_result)"
   ]
  },
  {
   "cell_type": "code",
   "execution_count": 39,
   "metadata": {
    "collapsed": false
   },
   "outputs": [
    {
     "data": {
      "text/html": [
       "<div>\n",
       "<table border=\"1\" class=\"dataframe\">\n",
       "  <thead>\n",
       "    <tr style=\"text-align: right;\">\n",
       "      <th></th>\n",
       "      <th>Threshold</th>\n",
       "      <th>Avg. Tags Per Prediction</th>\n",
       "      <th>Val. Precision</th>\n",
       "      <th>Val. Recall</th>\n",
       "      <th>Val. F1</th>\n",
       "    </tr>\n",
       "  </thead>\n",
       "  <tbody>\n",
       "    <tr>\n",
       "      <th>0</th>\n",
       "      <td>0.21</td>\n",
       "      <td>1.976390</td>\n",
       "      <td>0.603854</td>\n",
       "      <td>0.766259</td>\n",
       "      <td>0.675431</td>\n",
       "    </tr>\n",
       "    <tr>\n",
       "      <th>1</th>\n",
       "      <td>0.22</td>\n",
       "      <td>1.941356</td>\n",
       "      <td>0.610435</td>\n",
       "      <td>0.760880</td>\n",
       "      <td>0.677405</td>\n",
       "    </tr>\n",
       "    <tr>\n",
       "      <th>2</th>\n",
       "      <td>0.23</td>\n",
       "      <td>1.900990</td>\n",
       "      <td>0.618590</td>\n",
       "      <td>0.755012</td>\n",
       "      <td>0.680026</td>\n",
       "    </tr>\n",
       "    <tr>\n",
       "      <th>3</th>\n",
       "      <td>0.24</td>\n",
       "      <td>1.865956</td>\n",
       "      <td>0.625714</td>\n",
       "      <td>0.749633</td>\n",
       "      <td>0.682091</td>\n",
       "    </tr>\n",
       "    <tr>\n",
       "      <th>4</th>\n",
       "      <td>0.25</td>\n",
       "      <td>1.830922</td>\n",
       "      <td>0.632696</td>\n",
       "      <td>0.743765</td>\n",
       "      <td>0.683749</td>\n",
       "    </tr>\n",
       "    <tr>\n",
       "      <th>5</th>\n",
       "      <td>0.26</td>\n",
       "      <td>1.792079</td>\n",
       "      <td>0.641734</td>\n",
       "      <td>0.738386</td>\n",
       "      <td>0.686676</td>\n",
       "    </tr>\n",
       "    <tr>\n",
       "      <th>6</th>\n",
       "      <td>0.27</td>\n",
       "      <td>1.759330</td>\n",
       "      <td>0.649351</td>\n",
       "      <td>0.733496</td>\n",
       "      <td>0.688863</td>\n",
       "    </tr>\n",
       "    <tr>\n",
       "      <th>7</th>\n",
       "      <td>0.28</td>\n",
       "      <td>1.720487</td>\n",
       "      <td>0.656485</td>\n",
       "      <td>0.725183</td>\n",
       "      <td>0.689126</td>\n",
       "    </tr>\n",
       "    <tr>\n",
       "      <th>8</th>\n",
       "      <td>0.29</td>\n",
       "      <td>1.686215</td>\n",
       "      <td>0.663957</td>\n",
       "      <td>0.718826</td>\n",
       "      <td>0.690303</td>\n",
       "    </tr>\n",
       "    <tr>\n",
       "      <th>9</th>\n",
       "      <td>0.30</td>\n",
       "      <td>1.651181</td>\n",
       "      <td>0.672970</td>\n",
       "      <td>0.713447</td>\n",
       "      <td>0.692618</td>\n",
       "    </tr>\n",
       "    <tr>\n",
       "      <th>10</th>\n",
       "      <td>0.31</td>\n",
       "      <td>1.618431</td>\n",
       "      <td>0.679059</td>\n",
       "      <td>0.705623</td>\n",
       "      <td>0.692086</td>\n",
       "    </tr>\n",
       "    <tr>\n",
       "      <th>11</th>\n",
       "      <td>0.32</td>\n",
       "      <td>1.588728</td>\n",
       "      <td>0.682167</td>\n",
       "      <td>0.695844</td>\n",
       "      <td>0.688937</td>\n",
       "    </tr>\n",
       "    <tr>\n",
       "      <th>12</th>\n",
       "      <td>0.33</td>\n",
       "      <td>1.554455</td>\n",
       "      <td>0.687408</td>\n",
       "      <td>0.686064</td>\n",
       "      <td>0.686735</td>\n",
       "    </tr>\n",
       "    <tr>\n",
       "      <th>13</th>\n",
       "      <td>0.34</td>\n",
       "      <td>1.527037</td>\n",
       "      <td>0.692269</td>\n",
       "      <td>0.678729</td>\n",
       "      <td>0.685432</td>\n",
       "    </tr>\n",
       "    <tr>\n",
       "      <th>14</th>\n",
       "      <td>0.35</td>\n",
       "      <td>1.501904</td>\n",
       "      <td>0.696247</td>\n",
       "      <td>0.671394</td>\n",
       "      <td>0.683595</td>\n",
       "    </tr>\n",
       "    <tr>\n",
       "      <th>15</th>\n",
       "      <td>0.36</td>\n",
       "      <td>1.476771</td>\n",
       "      <td>0.700361</td>\n",
       "      <td>0.664059</td>\n",
       "      <td>0.681727</td>\n",
       "    </tr>\n",
       "    <tr>\n",
       "      <th>16</th>\n",
       "      <td>0.37</td>\n",
       "      <td>1.445545</td>\n",
       "      <td>0.706533</td>\n",
       "      <td>0.655746</td>\n",
       "      <td>0.680193</td>\n",
       "    </tr>\n",
       "    <tr>\n",
       "      <th>17</th>\n",
       "      <td>0.38</td>\n",
       "      <td>1.419650</td>\n",
       "      <td>0.711910</td>\n",
       "      <td>0.648900</td>\n",
       "      <td>0.678946</td>\n",
       "    </tr>\n",
       "    <tr>\n",
       "      <th>18</th>\n",
       "      <td>0.39</td>\n",
       "      <td>1.405941</td>\n",
       "      <td>0.712893</td>\n",
       "      <td>0.643521</td>\n",
       "      <td>0.676433</td>\n",
       "    </tr>\n",
       "    <tr>\n",
       "      <th>19</th>\n",
       "      <td>0.40</td>\n",
       "      <td>1.383854</td>\n",
       "      <td>0.717666</td>\n",
       "      <td>0.637653</td>\n",
       "      <td>0.675298</td>\n",
       "    </tr>\n",
       "    <tr>\n",
       "      <th>20</th>\n",
       "      <td>0.41</td>\n",
       "      <td>1.354912</td>\n",
       "      <td>0.721192</td>\n",
       "      <td>0.627384</td>\n",
       "      <td>0.671025</td>\n",
       "    </tr>\n",
       "    <tr>\n",
       "      <th>21</th>\n",
       "      <td>0.42</td>\n",
       "      <td>1.338919</td>\n",
       "      <td>0.722981</td>\n",
       "      <td>0.621516</td>\n",
       "      <td>0.668420</td>\n",
       "    </tr>\n",
       "    <tr>\n",
       "      <th>22</th>\n",
       "      <td>0.43</td>\n",
       "      <td>1.319117</td>\n",
       "      <td>0.726905</td>\n",
       "      <td>0.615648</td>\n",
       "      <td>0.666667</td>\n",
       "    </tr>\n",
       "    <tr>\n",
       "      <th>23</th>\n",
       "      <td>0.44</td>\n",
       "      <td>1.294745</td>\n",
       "      <td>0.730588</td>\n",
       "      <td>0.607335</td>\n",
       "      <td>0.663284</td>\n",
       "    </tr>\n",
       "    <tr>\n",
       "      <th>24</th>\n",
       "      <td>0.45</td>\n",
       "      <td>1.271135</td>\n",
       "      <td>0.736968</td>\n",
       "      <td>0.601467</td>\n",
       "      <td>0.662359</td>\n",
       "    </tr>\n",
       "  </tbody>\n",
       "</table>\n",
       "</div>"
      ],
      "text/plain": [
       "    Threshold  Avg. Tags Per Prediction  Val. Precision  Val. Recall   Val. F1\n",
       "0        0.21                  1.976390        0.603854     0.766259  0.675431\n",
       "1        0.22                  1.941356        0.610435     0.760880  0.677405\n",
       "2        0.23                  1.900990        0.618590     0.755012  0.680026\n",
       "3        0.24                  1.865956        0.625714     0.749633  0.682091\n",
       "4        0.25                  1.830922        0.632696     0.743765  0.683749\n",
       "5        0.26                  1.792079        0.641734     0.738386  0.686676\n",
       "6        0.27                  1.759330        0.649351     0.733496  0.688863\n",
       "7        0.28                  1.720487        0.656485     0.725183  0.689126\n",
       "8        0.29                  1.686215        0.663957     0.718826  0.690303\n",
       "9        0.30                  1.651181        0.672970     0.713447  0.692618\n",
       "10       0.31                  1.618431        0.679059     0.705623  0.692086\n",
       "11       0.32                  1.588728        0.682167     0.695844  0.688937\n",
       "12       0.33                  1.554455        0.687408     0.686064  0.686735\n",
       "13       0.34                  1.527037        0.692269     0.678729  0.685432\n",
       "14       0.35                  1.501904        0.696247     0.671394  0.683595\n",
       "15       0.36                  1.476771        0.700361     0.664059  0.681727\n",
       "16       0.37                  1.445545        0.706533     0.655746  0.680193\n",
       "17       0.38                  1.419650        0.711910     0.648900  0.678946\n",
       "18       0.39                  1.405941        0.712893     0.643521  0.676433\n",
       "19       0.40                  1.383854        0.717666     0.637653  0.675298\n",
       "20       0.41                  1.354912        0.721192     0.627384  0.671025\n",
       "21       0.42                  1.338919        0.722981     0.621516  0.668420\n",
       "22       0.43                  1.319117        0.726905     0.615648  0.666667\n",
       "23       0.44                  1.294745        0.730588     0.607335  0.663284\n",
       "24       0.45                  1.271135        0.736968     0.601467  0.662359"
      ]
     },
     "metadata": {},
     "output_type": "display_data"
    }
   ],
   "source": [
    "grid_result_pretty = pd.DataFrame(grid_result)\n",
    "grid_result_pretty.columns = [\"Threshold\", \"Avg. Tags Per Prediction\", \"Val. Precision\", \"Val. Recall\", \"Val. F1\"]\n",
    "display(grid_result_pretty)"
   ]
  },
  {
   "cell_type": "code",
   "execution_count": 40,
   "metadata": {
    "collapsed": false
   },
   "outputs": [
    {
     "data": {
      "image/png": "[encoded data removed]",
      "text/plain": [
       "<matplotlib.figure.Figure at 0x116cb69d0>"
      ]
     },
     "metadata": {},
     "output_type": "display_data"
    }
   ],
   "source": [
    "plt.plot(grid_result[:,0], grid_result[:,2:5])\n",
    "plt.legend([\"Val. Precision\", \"Val. Recall\", \"Val. F1\"])\n",
    "plt.xlabel(\"Threshold\")\n",
    "plt.ylabel(\"Score\")\n",
    "plt.show()"
   ]
  },
  {
   "cell_type": "code",
   "execution_count": 41,
   "metadata": {
    "collapsed": false
   },
   "outputs": [
    {
     "name": "stdout",
     "output_type": "stream",
     "text": [
      "Training Score: (0.7089967389219259, 0.7644260599793175, 0.7356687898089171)\n"
     ]
    }
   ],
   "source": [
    "print \"Training Score:\", pp.score(pp.labelMatrixToString(ovr_lr.predict_proba(X_train) > .3), y_train_str)"
   ]
  },
  {
   "cell_type": "code",
   "execution_count": 42,
   "metadata": {
    "collapsed": false
   },
   "outputs": [
    {
     "data": {
      "text/plain": [
       "OneVsRestClassifier(estimator=LogisticRegression(C=1.0, class_weight=None, dual=False, fit_intercept=True,\n",
       "          intercept_scaling=1, max_iter=100, multi_class='ovr', n_jobs=1,\n",
       "          penalty='l2', random_state=10, solver='liblinear', tol=0.0001,\n",
       "          verbose=0, warm_start=False),\n",
       "          n_jobs=1)"
      ]
     },
     "execution_count": 42,
     "metadata": {},
     "output_type": "execute_result"
    }
   ],
   "source": [
    "ovr_lr.fit(X, y)"
   ]
  },
  {
   "cell_type": "code",
   "execution_count": 43,
   "metadata": {
    "collapsed": false
   },
   "outputs": [],
   "source": [
    "pred_matrix = ovr_lr.predict_proba(X_test) > .3\n",
    "pred_str = pp.labelMatrixToString(pred_matrix.astype(int))\n",
    "# pp.predStringToFile(pred_str, \"./data/tags.tsv\")"
   ]
  }
 ],
 "metadata": {
  "kernelspec": {
   "display_name": "Python 2",
   "language": "python",
   "name": "python2"
  },
  "language_info": {
   "codemirror_mode": {
    "name": "ipython",
    "version": 2
   },
   "file_extension": ".py",
   "mimetype": "text/x-python",
   "name": "python",
   "nbconvert_exporter": "python",
   "pygments_lexer": "ipython2",
   "version": "2.7.11"
  }
 },
 "nbformat": 4,
 "nbformat_minor": 0
}
