{
 "cells": [
  {
   "cell_type": "markdown",
   "metadata": {},
   "source": [
    "# Indeed Machine Learning Hackathon - Model Building"
   ]
  },
  {
   "cell_type": "markdown",
   "metadata": {},
   "source": [
    "This notebook walks through the predictive models that I explored. The prediction file from the SVM model below is what I submitted to get my final ranking of 27/248. After the competition, I added in the simple feedforward neural network for comparison."
   ]
  },
  {
   "cell_type": "code",
<<<<<<< HEAD
   "execution_count": 41,
=======
   "execution_count": 2,
>>>>>>> f228f97c85ea8c226719c2603638be10937cfd10
   "metadata": {
    "collapsed": true
   },
   "outputs": [],
   "source": [
    "import preprocessing as pp\n",
    "import numpy as np\n",
    "import pandas as pd\n",
    "from IPython.display import display\n",
    "from sklearn.model_selection import train_test_split\n",
    "from sklearn.multiclass import OneVsRestClassifier\n",
    "from sklearn.svm import SVC\n",
    "from sklearn.linear_model import LogisticRegression\n",
    "import matplotlib.pyplot as plt\n",
    "import tensorflow as tf\n",
    "%matplotlib inline"
   ]
  },
  {
   "cell_type": "code",
<<<<<<< HEAD
   "execution_count": 42,
=======
   "execution_count": 3,
>>>>>>> f228f97c85ea8c226719c2603638be10937cfd10
   "metadata": {
    "collapsed": true
   },
   "outputs": [],
   "source": [
    "train = pp.JobDescriptionDataset(\"./data/train.tsv\")\n",
    "dt_matrix = train.getDTMatrix()\n",
    "corr_matrix = train.getCorrelationMatrix()\n",
    "corr_matrix_sort = (-corr_matrix).argsort()\n",
    "term_names = train.getTermNames()"
   ]
  },
  {
   "cell_type": "markdown",
   "metadata": {},
   "source": [
    "### Data Preprocessing"
   ]
  },
  {
   "cell_type": "markdown",
   "metadata": {},
   "source": [
    "I restrict my input document term matrix to include only terms that are in the top 15 most correlated with some tag."
   ]
  },
  {
   "cell_type": "code",
<<<<<<< HEAD
   "execution_count": 43,
=======
   "execution_count": 4,
>>>>>>> f228f97c85ea8c226719c2603638be10937cfd10
   "metadata": {
    "collapsed": true
   },
   "outputs": [],
   "source": [
    "top_terms = np.array(list(set(corr_matrix_sort[:, :15].flatten().tolist()[0])))\n",
    "X = dt_matrix[:, top_terms]\n",
    "y = train.getBinarizedLabels()"
   ]
  },
  {
   "cell_type": "markdown",
   "metadata": {},
   "source": [
    "I hold out a 30% validation set for comparing models."
   ]
  },
  {
   "cell_type": "code",
<<<<<<< HEAD
   "execution_count": 44,
=======
   "execution_count": 5,
>>>>>>> f228f97c85ea8c226719c2603638be10937cfd10
   "metadata": {
    "collapsed": true
   },
   "outputs": [],
   "source": [
    "X_train, X_val, y_train, y_val = train_test_split(X, y, test_size=0.3, random_state=24)"
   ]
  },
  {
   "cell_type": "markdown",
   "metadata": {},
   "source": [
    "Load in the test data and transform to match training data."
   ]
  },
  {
   "cell_type": "code",
<<<<<<< HEAD
   "execution_count": 45,
=======
   "execution_count": 6,
>>>>>>> f228f97c85ea8c226719c2603638be10937cfd10
   "metadata": {
    "collapsed": true
   },
   "outputs": [],
   "source": [
    "test = pp.JobDescriptionDataset(\"./data/test.tsv\")\n",
    "test.setDTMatrix(vocab = np.array(train.getTermNames())[top_terms])\n",
    "X_test = test.getDTMatrix()"
   ]
  },
  {
   "cell_type": "markdown",
   "metadata": {},
   "source": [
    "### OneVsRest SVM"
   ]
  },
  {
   "cell_type": "code",
   "execution_count": 46,
   "metadata": {
    "collapsed": true
   },
   "outputs": [],
   "source": [
    "ovr_svm = OneVsRestClassifier(SVC(kernel = 'linear', probability = True, random_state = 20))\n",
    "ovr_svm.fit(X_train, y_train)\n",
    "ovr_svm_val_preds = ovr_svm.predict(X_val)"
   ]
  },
  {
   "cell_type": "code",
<<<<<<< HEAD
   "execution_count": 47,
   "metadata": {
    "collapsed": false
   },
=======
   "execution_count": 30,
   "metadata": {},
>>>>>>> f228f97c85ea8c226719c2603638be10937cfd10
   "outputs": [
    {
     "name": "stdout",
     "output_type": "stream",
     "text": [
      "Validation Score - Precision: 0.7627, Recall: 0.5892, F1: 0.6648\n",
      "Training Score - Precision: 0.8188, Recall: 0.6393, F1: 0.7180\n"
     ]
    }
   ],
   "source": [
    "print \"Validation Score -\", pp.score(y_val, ovr_svm_val_preds)\n",
    "print \"Training Score -\", pp.score(y_train, ovr_svm.predict(X_train))"
   ]
  },
  {
   "cell_type": "markdown",
   "metadata": {},
   "source": [
    "The precision is higher than the recall for this model which shows that it fails to predict many tags but does relatively well when it does predict a tag. This means that the model could likely benefit from predicting more tags to boost the true positive rate at the expense of increasing the false positive rate. In addition, the average number of tags predicted per sample in the validation set is significantly lower than the average number of tags per sample in the training set. This is another indication that the model could benefit from predicting more tags."
   ]
  },
  {
   "cell_type": "code",
<<<<<<< HEAD
   "execution_count": 48,
   "metadata": {
    "collapsed": false
   },
=======
   "execution_count": 31,
   "metadata": {},
>>>>>>> f228f97c85ea8c226719c2603638be10937cfd10
   "outputs": [
    {
     "name": "stdout",
     "output_type": "stream",
     "text": [
      "Average Tags Per Validation Prediction: 1.20335110434\n",
      "Average Tags Per Training Sample: 1.57903331156\n"
     ]
    }
   ],
   "source": [
    "print \"Average Tags Per Validation Prediction:\", 1.*ovr_svm_val_preds.sum()/ovr_svm_val_preds.shape[0]\n",
    "print \"Average Tags Per Training Sample:\", 1.*y_train.sum()/y_train.shape[0]"
   ]
  },
  {
   "cell_type": "markdown",
   "metadata": {},
   "source": [
    "We can boost the number of tags predicted by using SVM's probability estimates and lowering the threshold at which a sample is predicted to have a certain tag. We can choose this threshold by looking at performance results on the validation set using various threshold values."
   ]
  },
  {
   "cell_type": "code",
   "execution_count": 49,
   "metadata": {
    "collapsed": true
   },
   "outputs": [],
   "source": [
    "ovr_svm_val_preds_prob = ovr_svm.predict_proba(X_val)\n",
    "grid_result = list()\n",
    "for i in [.17 + incr for incr in np.divide(range(25), 100.)]:\n",
    "    row = [i, 1.*(ovr_svm_val_preds_prob > i).sum()/ovr_svm_val_preds_prob.shape[0]]\n",
    "    pred_matrix = ovr_svm_val_preds_prob > i\n",
    "    row += list(pp.score(y_val, pred_matrix, return_values = True))\n",
    "    grid_result.append(row)\n",
    "grid_result = np.array(grid_result)"
   ]
  },
  {
   "cell_type": "code",
<<<<<<< HEAD
   "execution_count": 50,
   "metadata": {
    "collapsed": false
   },
=======
   "execution_count": 33,
   "metadata": {},
>>>>>>> f228f97c85ea8c226719c2603638be10937cfd10
   "outputs": [
    {
     "data": {
      "text/html": [
       "<div>\n",
       "<table border=\"1\" class=\"dataframe\">\n",
       "  <thead>\n",
       "    <tr style=\"text-align: right;\">\n",
       "      <th></th>\n",
       "      <th>Threshold</th>\n",
       "      <th>Avg. Tags Per Prediction</th>\n",
       "      <th>Val. Precision</th>\n",
       "      <th>Val. Recall</th>\n",
       "      <th>Val. F1</th>\n",
       "    </tr>\n",
       "  </thead>\n",
       "  <tbody>\n",
       "    <tr>\n",
       "      <th>0</th>\n",
       "      <td>0.17</td>\n",
       "      <td>1.917746</td>\n",
       "      <td>0.608022</td>\n",
       "      <td>0.748655</td>\n",
       "      <td>0.671050</td>\n",
       "    </tr>\n",
       "    <tr>\n",
       "      <th>1</th>\n",
       "      <td>0.18</td>\n",
       "      <td>1.843869</td>\n",
       "      <td>0.624535</td>\n",
       "      <td>0.739364</td>\n",
       "      <td>0.677116</td>\n",
       "    </tr>\n",
       "    <tr>\n",
       "      <th>2</th>\n",
       "      <td>0.19</td>\n",
       "      <td>1.786748</td>\n",
       "      <td>0.637681</td>\n",
       "      <td>0.731540</td>\n",
       "      <td>0.681394</td>\n",
       "    </tr>\n",
       "    <tr>\n",
       "      <th>3</th>\n",
       "      <td>0.20</td>\n",
       "      <td>1.736481</td>\n",
       "      <td>0.648246</td>\n",
       "      <td>0.722738</td>\n",
       "      <td>0.683468</td>\n",
       "    </tr>\n",
       "    <tr>\n",
       "      <th>4</th>\n",
       "      <td>0.21</td>\n",
       "      <td>1.687738</td>\n",
       "      <td>0.659296</td>\n",
       "      <td>0.714425</td>\n",
       "      <td>0.685755</td>\n",
       "    </tr>\n",
       "    <tr>\n",
       "      <th>5</th>\n",
       "      <td>0.22</td>\n",
       "      <td>1.644326</td>\n",
       "      <td>0.667439</td>\n",
       "      <td>0.704645</td>\n",
       "      <td>0.685538</td>\n",
       "    </tr>\n",
       "    <tr>\n",
       "      <th>6</th>\n",
       "      <td>0.23</td>\n",
       "      <td>1.603960</td>\n",
       "      <td>0.676638</td>\n",
       "      <td>0.696822</td>\n",
       "      <td>0.686582</td>\n",
       "    </tr>\n",
       "    <tr>\n",
       "      <th>7</th>\n",
       "      <td>0.24</td>\n",
       "      <td>1.561310</td>\n",
       "      <td>0.684878</td>\n",
       "      <td>0.686553</td>\n",
       "      <td>0.685714</td>\n",
       "    </tr>\n",
       "    <tr>\n",
       "      <th>8</th>\n",
       "      <td>0.25</td>\n",
       "      <td>1.525514</td>\n",
       "      <td>0.691962</td>\n",
       "      <td>0.677751</td>\n",
       "      <td>0.684783</td>\n",
       "    </tr>\n",
       "    <tr>\n",
       "      <th>9</th>\n",
       "      <td>0.26</td>\n",
       "      <td>1.495050</td>\n",
       "      <td>0.698421</td>\n",
       "      <td>0.670416</td>\n",
       "      <td>0.684132</td>\n",
       "    </tr>\n",
       "    <tr>\n",
       "      <th>10</th>\n",
       "      <td>0.27</td>\n",
       "      <td>1.463823</td>\n",
       "      <td>0.706035</td>\n",
       "      <td>0.663570</td>\n",
       "      <td>0.684144</td>\n",
       "    </tr>\n",
       "    <tr>\n",
       "      <th>11</th>\n",
       "      <td>0.28</td>\n",
       "      <td>1.436405</td>\n",
       "      <td>0.710498</td>\n",
       "      <td>0.655257</td>\n",
       "      <td>0.681760</td>\n",
       "    </tr>\n",
       "    <tr>\n",
       "      <th>12</th>\n",
       "      <td>0.29</td>\n",
       "      <td>1.415080</td>\n",
       "      <td>0.714209</td>\n",
       "      <td>0.648900</td>\n",
       "      <td>0.679990</td>\n",
       "    </tr>\n",
       "    <tr>\n",
       "      <th>13</th>\n",
       "      <td>0.30</td>\n",
       "      <td>1.392232</td>\n",
       "      <td>0.718271</td>\n",
       "      <td>0.642054</td>\n",
       "      <td>0.678027</td>\n",
       "    </tr>\n",
       "    <tr>\n",
       "      <th>14</th>\n",
       "      <td>0.31</td>\n",
       "      <td>1.363290</td>\n",
       "      <td>0.724581</td>\n",
       "      <td>0.634230</td>\n",
       "      <td>0.676402</td>\n",
       "    </tr>\n",
       "    <tr>\n",
       "      <th>15</th>\n",
       "      <td>0.32</td>\n",
       "      <td>1.341965</td>\n",
       "      <td>0.728717</td>\n",
       "      <td>0.627873</td>\n",
       "      <td>0.674547</td>\n",
       "    </tr>\n",
       "    <tr>\n",
       "      <th>16</th>\n",
       "      <td>0.33</td>\n",
       "      <td>1.329018</td>\n",
       "      <td>0.731805</td>\n",
       "      <td>0.624450</td>\n",
       "      <td>0.673879</td>\n",
       "    </tr>\n",
       "    <tr>\n",
       "      <th>17</th>\n",
       "      <td>0.34</td>\n",
       "      <td>1.309216</td>\n",
       "      <td>0.737056</td>\n",
       "      <td>0.619560</td>\n",
       "      <td>0.673220</td>\n",
       "    </tr>\n",
       "    <tr>\n",
       "      <th>18</th>\n",
       "      <td>0.35</td>\n",
       "      <td>1.293983</td>\n",
       "      <td>0.740436</td>\n",
       "      <td>0.615159</td>\n",
       "      <td>0.672009</td>\n",
       "    </tr>\n",
       "    <tr>\n",
       "      <th>19</th>\n",
       "      <td>0.36</td>\n",
       "      <td>1.270373</td>\n",
       "      <td>0.747002</td>\n",
       "      <td>0.609291</td>\n",
       "      <td>0.671155</td>\n",
       "    </tr>\n",
       "    <tr>\n",
       "      <th>20</th>\n",
       "      <td>0.37</td>\n",
       "      <td>1.251333</td>\n",
       "      <td>0.753500</td>\n",
       "      <td>0.605379</td>\n",
       "      <td>0.671367</td>\n",
       "    </tr>\n",
       "    <tr>\n",
       "      <th>21</th>\n",
       "      <td>0.38</td>\n",
       "      <td>1.235339</td>\n",
       "      <td>0.757090</td>\n",
       "      <td>0.600489</td>\n",
       "      <td>0.669757</td>\n",
       "    </tr>\n",
       "    <tr>\n",
       "      <th>22</th>\n",
       "      <td>0.39</td>\n",
       "      <td>1.218583</td>\n",
       "      <td>0.758750</td>\n",
       "      <td>0.593643</td>\n",
       "      <td>0.666118</td>\n",
       "    </tr>\n",
       "    <tr>\n",
       "      <th>23</th>\n",
       "      <td>0.40</td>\n",
       "      <td>1.201828</td>\n",
       "      <td>0.762357</td>\n",
       "      <td>0.588264</td>\n",
       "      <td>0.664091</td>\n",
       "    </tr>\n",
       "    <tr>\n",
       "      <th>24</th>\n",
       "      <td>0.41</td>\n",
       "      <td>1.182788</td>\n",
       "      <td>0.765615</td>\n",
       "      <td>0.581418</td>\n",
       "      <td>0.660923</td>\n",
       "    </tr>\n",
       "  </tbody>\n",
       "</table>\n",
       "</div>"
      ],
      "text/plain": [
       "    Threshold  Avg. Tags Per Prediction  Val. Precision  Val. Recall   Val. F1\n",
       "0        0.17                  1.917746        0.608022     0.748655  0.671050\n",
       "1        0.18                  1.843869        0.624535     0.739364  0.677116\n",
       "2        0.19                  1.786748        0.637681     0.731540  0.681394\n",
       "3        0.20                  1.736481        0.648246     0.722738  0.683468\n",
       "4        0.21                  1.687738        0.659296     0.714425  0.685755\n",
       "5        0.22                  1.644326        0.667439     0.704645  0.685538\n",
       "6        0.23                  1.603960        0.676638     0.696822  0.686582\n",
       "7        0.24                  1.561310        0.684878     0.686553  0.685714\n",
       "8        0.25                  1.525514        0.691962     0.677751  0.684783\n",
       "9        0.26                  1.495050        0.698421     0.670416  0.684132\n",
       "10       0.27                  1.463823        0.706035     0.663570  0.684144\n",
       "11       0.28                  1.436405        0.710498     0.655257  0.681760\n",
       "12       0.29                  1.415080        0.714209     0.648900  0.679990\n",
       "13       0.30                  1.392232        0.718271     0.642054  0.678027\n",
       "14       0.31                  1.363290        0.724581     0.634230  0.676402\n",
       "15       0.32                  1.341965        0.728717     0.627873  0.674547\n",
       "16       0.33                  1.329018        0.731805     0.624450  0.673879\n",
       "17       0.34                  1.309216        0.737056     0.619560  0.673220\n",
       "18       0.35                  1.293983        0.740436     0.615159  0.672009\n",
       "19       0.36                  1.270373        0.747002     0.609291  0.671155\n",
       "20       0.37                  1.251333        0.753500     0.605379  0.671367\n",
       "21       0.38                  1.235339        0.757090     0.600489  0.669757\n",
       "22       0.39                  1.218583        0.758750     0.593643  0.666118\n",
       "23       0.40                  1.201828        0.762357     0.588264  0.664091\n",
       "24       0.41                  1.182788        0.765615     0.581418  0.660923"
      ]
     },
     "metadata": {},
     "output_type": "display_data"
    }
   ],
   "source": [
    "grid_result_pretty = pd.DataFrame(grid_result)\n",
    "grid_result_pretty.columns = [\"Threshold\", \"Avg. Tags Per Prediction\", \"Val. Precision\", \"Val. Recall\", \"Val. F1\"]\n",
    "display(grid_result_pretty)"
   ]
  },
  {
   "cell_type": "code",
<<<<<<< HEAD
   "execution_count": 51,
   "metadata": {
    "collapsed": false
   },
=======
   "execution_count": 34,
   "metadata": {},
>>>>>>> f228f97c85ea8c226719c2603638be10937cfd10
   "outputs": [
    {
     "data": {
      "image/png": "iVBORw0KGgoAAAANSUhEUgAAAY8AAAEPCAYAAAC6Kkg/AAAABHNCSVQICAgIfAhkiAAAAAlwSFlz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\nCCGEcJqEhxBCCKdJeAghhHDa/wEbRu9rISDdBwAAAABJRU5ErkJggg==\n",
      "text/plain": [
       "<matplotlib.figure.Figure at 0x1169fedd0>"
      ]
     },
     "metadata": {},
     "output_type": "display_data"
    }
   ],
   "source": [
    "plt.plot(grid_result[:,0], grid_result[:,2:5])\n",
    "plt.legend([\"Val. Precision\", \"Val. Recall\", \"Val. F1\"])\n",
    "plt.xlabel(\"Threshold\")\n",
    "plt.ylabel(\"Score\")\n",
    "plt.show()"
   ]
  },
  {
   "cell_type": "code",
<<<<<<< HEAD
   "execution_count": 52,
   "metadata": {
    "collapsed": false
   },
=======
   "execution_count": 35,
   "metadata": {},
>>>>>>> f228f97c85ea8c226719c2603638be10937cfd10
   "outputs": [
    {
     "name": "stdout",
     "output_type": "stream",
     "text": [
      "Training Score - Precision: 0.7497, Recall: 0.7297, F1: 0.7395\n"
     ]
    }
   ],
   "source": [
    "print \"Training Score -\", pp.score(y_train, ovr_svm.predict_proba(X_train) > .235)"
   ]
  },
  {
   "cell_type": "markdown",
   "metadata": {},
   "source": [
    "I'll fit this model on all the data to make test predictions."
   ]
  },
  {
   "cell_type": "code",
   "execution_count": 53,
   "metadata": {
    "collapsed": true
   },
   "outputs": [],
   "source": [
    "ovr_svm.fit(X, y)\n",
    "svm_test_preds = ovr_svm.predict_proba(X_test) > .235\n",
    "svm_test_pred_str = pp.labelMatrixToString(svm_test_preds.astype(int))\n",
    "# pp.predStringToFile(svm_test_pred_str, \"./data/tags.tsv\")"
   ]
  },
  {
   "cell_type": "markdown",
   "metadata": {},
   "source": [
    "### OneVsRest Logistic Regression"
   ]
  },
  {
   "cell_type": "code",
   "execution_count": 54,
   "metadata": {
    "collapsed": true
   },
   "outputs": [],
   "source": [
    "ovr_lr = OneVsRestClassifier(LogisticRegression(random_state = 10))\n",
    "ovr_lr.fit(X_train, y_train)\n",
    "ovr_lr_val_preds_prob = ovr_lr.predict_proba(X_val)"
   ]
  },
  {
   "cell_type": "code",
   "execution_count": 55,
   "metadata": {
    "collapsed": true
   },
   "outputs": [],
   "source": [
    "import pickle\n",
    "with open(\"./data/logistic_regression_predictions.dat\", \"wb\") as f:\n",
    "    pickle.dump(ovr_lr_val_preds_prob, f)\n",
    "with open(\"./data/logistic_regression_true.dat\", \"wb\") as f:\n",
    "    pickle.dump(y_val, f)"
   ]
  },
  {
   "cell_type": "code",
   "execution_count": 56,
   "metadata": {
    "collapsed": true
   },
   "outputs": [],
   "source": [
    "grid_result = list()\n",
    "for i in [.21 + incr for incr in np.divide(range(25), 100.)]:\n",
    "    row = [i, 1.*(ovr_lr_val_preds_prob > i).sum()/ovr_lr_val_preds_prob.shape[0]]\n",
    "    pred_matrix = ovr_lr_val_preds_prob > i\n",
    "    row += list(pp.score(y_val, pred_matrix, return_values = True))\n",
    "    grid_result.append(row)\n",
    "grid_result = np.array(grid_result)"
   ]
  },
  {
   "cell_type": "code",
<<<<<<< HEAD
   "execution_count": 57,
   "metadata": {
    "collapsed": false
   },
=======
   "execution_count": 39,
   "metadata": {},
>>>>>>> f228f97c85ea8c226719c2603638be10937cfd10
   "outputs": [
    {
     "data": {
      "text/html": [
       "<div>\n",
       "<table border=\"1\" class=\"dataframe\">\n",
       "  <thead>\n",
       "    <tr style=\"text-align: right;\">\n",
       "      <th></th>\n",
       "      <th>Threshold</th>\n",
       "      <th>Avg. Tags Per Prediction</th>\n",
       "      <th>Val. Precision</th>\n",
       "      <th>Val. Recall</th>\n",
       "      <th>Val. F1</th>\n",
       "    </tr>\n",
       "  </thead>\n",
       "  <tbody>\n",
       "    <tr>\n",
       "      <th>0</th>\n",
       "      <td>0.21</td>\n",
       "      <td>1.976390</td>\n",
       "      <td>0.603854</td>\n",
       "      <td>0.766259</td>\n",
       "      <td>0.675431</td>\n",
       "    </tr>\n",
       "    <tr>\n",
       "      <th>1</th>\n",
       "      <td>0.22</td>\n",
       "      <td>1.941356</td>\n",
       "      <td>0.610435</td>\n",
       "      <td>0.760880</td>\n",
       "      <td>0.677405</td>\n",
       "    </tr>\n",
       "    <tr>\n",
       "      <th>2</th>\n",
       "      <td>0.23</td>\n",
       "      <td>1.900990</td>\n",
       "      <td>0.618590</td>\n",
       "      <td>0.755012</td>\n",
       "      <td>0.680026</td>\n",
       "    </tr>\n",
       "    <tr>\n",
       "      <th>3</th>\n",
       "      <td>0.24</td>\n",
       "      <td>1.865956</td>\n",
       "      <td>0.625714</td>\n",
       "      <td>0.749633</td>\n",
       "      <td>0.682091</td>\n",
       "    </tr>\n",
       "    <tr>\n",
       "      <th>4</th>\n",
       "      <td>0.25</td>\n",
       "      <td>1.830922</td>\n",
       "      <td>0.632696</td>\n",
       "      <td>0.743765</td>\n",
       "      <td>0.683749</td>\n",
       "    </tr>\n",
       "    <tr>\n",
       "      <th>5</th>\n",
       "      <td>0.26</td>\n",
       "      <td>1.792079</td>\n",
       "      <td>0.641734</td>\n",
       "      <td>0.738386</td>\n",
       "      <td>0.686676</td>\n",
       "    </tr>\n",
       "    <tr>\n",
       "      <th>6</th>\n",
       "      <td>0.27</td>\n",
       "      <td>1.759330</td>\n",
       "      <td>0.649351</td>\n",
       "      <td>0.733496</td>\n",
       "      <td>0.688863</td>\n",
       "    </tr>\n",
       "    <tr>\n",
       "      <th>7</th>\n",
       "      <td>0.28</td>\n",
       "      <td>1.720487</td>\n",
       "      <td>0.656485</td>\n",
       "      <td>0.725183</td>\n",
       "      <td>0.689126</td>\n",
       "    </tr>\n",
       "    <tr>\n",
       "      <th>8</th>\n",
       "      <td>0.29</td>\n",
       "      <td>1.686215</td>\n",
       "      <td>0.663957</td>\n",
       "      <td>0.718826</td>\n",
       "      <td>0.690303</td>\n",
       "    </tr>\n",
       "    <tr>\n",
       "      <th>9</th>\n",
       "      <td>0.30</td>\n",
       "      <td>1.651181</td>\n",
       "      <td>0.672970</td>\n",
       "      <td>0.713447</td>\n",
       "      <td>0.692618</td>\n",
       "    </tr>\n",
       "    <tr>\n",
       "      <th>10</th>\n",
       "      <td>0.31</td>\n",
       "      <td>1.618431</td>\n",
       "      <td>0.679059</td>\n",
       "      <td>0.705623</td>\n",
       "      <td>0.692086</td>\n",
       "    </tr>\n",
       "    <tr>\n",
       "      <th>11</th>\n",
       "      <td>0.32</td>\n",
       "      <td>1.588728</td>\n",
       "      <td>0.682167</td>\n",
       "      <td>0.695844</td>\n",
       "      <td>0.688937</td>\n",
       "    </tr>\n",
       "    <tr>\n",
       "      <th>12</th>\n",
       "      <td>0.33</td>\n",
       "      <td>1.554455</td>\n",
       "      <td>0.687408</td>\n",
       "      <td>0.686064</td>\n",
       "      <td>0.686735</td>\n",
       "    </tr>\n",
       "    <tr>\n",
       "      <th>13</th>\n",
       "      <td>0.34</td>\n",
       "      <td>1.527037</td>\n",
       "      <td>0.692269</td>\n",
       "      <td>0.678729</td>\n",
       "      <td>0.685432</td>\n",
       "    </tr>\n",
       "    <tr>\n",
       "      <th>14</th>\n",
       "      <td>0.35</td>\n",
       "      <td>1.501904</td>\n",
       "      <td>0.696247</td>\n",
       "      <td>0.671394</td>\n",
       "      <td>0.683595</td>\n",
       "    </tr>\n",
       "    <tr>\n",
       "      <th>15</th>\n",
       "      <td>0.36</td>\n",
       "      <td>1.476771</td>\n",
       "      <td>0.700361</td>\n",
       "      <td>0.664059</td>\n",
       "      <td>0.681727</td>\n",
       "    </tr>\n",
       "    <tr>\n",
       "      <th>16</th>\n",
       "      <td>0.37</td>\n",
       "      <td>1.445545</td>\n",
       "      <td>0.706533</td>\n",
       "      <td>0.655746</td>\n",
       "      <td>0.680193</td>\n",
       "    </tr>\n",
       "    <tr>\n",
       "      <th>17</th>\n",
       "      <td>0.38</td>\n",
       "      <td>1.419650</td>\n",
       "      <td>0.711910</td>\n",
       "      <td>0.648900</td>\n",
       "      <td>0.678946</td>\n",
       "    </tr>\n",
       "    <tr>\n",
       "      <th>18</th>\n",
       "      <td>0.39</td>\n",
       "      <td>1.405941</td>\n",
       "      <td>0.712893</td>\n",
       "      <td>0.643521</td>\n",
       "      <td>0.676433</td>\n",
       "    </tr>\n",
       "    <tr>\n",
       "      <th>19</th>\n",
       "      <td>0.40</td>\n",
       "      <td>1.383854</td>\n",
       "      <td>0.717666</td>\n",
       "      <td>0.637653</td>\n",
       "      <td>0.675298</td>\n",
       "    </tr>\n",
       "    <tr>\n",
       "      <th>20</th>\n",
       "      <td>0.41</td>\n",
       "      <td>1.354912</td>\n",
       "      <td>0.721192</td>\n",
       "      <td>0.627384</td>\n",
       "      <td>0.671025</td>\n",
       "    </tr>\n",
       "    <tr>\n",
       "      <th>21</th>\n",
       "      <td>0.42</td>\n",
       "      <td>1.338919</td>\n",
       "      <td>0.722981</td>\n",
       "      <td>0.621516</td>\n",
       "      <td>0.668420</td>\n",
       "    </tr>\n",
       "    <tr>\n",
       "      <th>22</th>\n",
       "      <td>0.43</td>\n",
       "      <td>1.319117</td>\n",
       "      <td>0.726905</td>\n",
       "      <td>0.615648</td>\n",
       "      <td>0.666667</td>\n",
       "    </tr>\n",
       "    <tr>\n",
       "      <th>23</th>\n",
       "      <td>0.44</td>\n",
       "      <td>1.294745</td>\n",
       "      <td>0.730588</td>\n",
       "      <td>0.607335</td>\n",
       "      <td>0.663284</td>\n",
       "    </tr>\n",
       "    <tr>\n",
       "      <th>24</th>\n",
       "      <td>0.45</td>\n",
       "      <td>1.271135</td>\n",
       "      <td>0.736968</td>\n",
       "      <td>0.601467</td>\n",
       "      <td>0.662359</td>\n",
       "    </tr>\n",
       "  </tbody>\n",
       "</table>\n",
       "</div>"
      ],
      "text/plain": [
       "    Threshold  Avg. Tags Per Prediction  Val. Precision  Val. Recall   Val. F1\n",
       "0        0.21                  1.976390        0.603854     0.766259  0.675431\n",
       "1        0.22                  1.941356        0.610435     0.760880  0.677405\n",
       "2        0.23                  1.900990        0.618590     0.755012  0.680026\n",
       "3        0.24                  1.865956        0.625714     0.749633  0.682091\n",
       "4        0.25                  1.830922        0.632696     0.743765  0.683749\n",
       "5        0.26                  1.792079        0.641734     0.738386  0.686676\n",
       "6        0.27                  1.759330        0.649351     0.733496  0.688863\n",
       "7        0.28                  1.720487        0.656485     0.725183  0.689126\n",
       "8        0.29                  1.686215        0.663957     0.718826  0.690303\n",
       "9        0.30                  1.651181        0.672970     0.713447  0.692618\n",
       "10       0.31                  1.618431        0.679059     0.705623  0.692086\n",
       "11       0.32                  1.588728        0.682167     0.695844  0.688937\n",
       "12       0.33                  1.554455        0.687408     0.686064  0.686735\n",
       "13       0.34                  1.527037        0.692269     0.678729  0.685432\n",
       "14       0.35                  1.501904        0.696247     0.671394  0.683595\n",
       "15       0.36                  1.476771        0.700361     0.664059  0.681727\n",
       "16       0.37                  1.445545        0.706533     0.655746  0.680193\n",
       "17       0.38                  1.419650        0.711910     0.648900  0.678946\n",
       "18       0.39                  1.405941        0.712893     0.643521  0.676433\n",
       "19       0.40                  1.383854        0.717666     0.637653  0.675298\n",
       "20       0.41                  1.354912        0.721192     0.627384  0.671025\n",
       "21       0.42                  1.338919        0.722981     0.621516  0.668420\n",
       "22       0.43                  1.319117        0.726905     0.615648  0.666667\n",
       "23       0.44                  1.294745        0.730588     0.607335  0.663284\n",
       "24       0.45                  1.271135        0.736968     0.601467  0.662359"
      ]
     },
     "metadata": {},
     "output_type": "display_data"
    }
   ],
   "source": [
    "grid_result_pretty = pd.DataFrame(grid_result)\n",
    "grid_result_pretty.columns = [\"Threshold\", \"Avg. Tags Per Prediction\", \"Val. Precision\", \"Val. Recall\", \"Val. F1\"]\n",
    "display(grid_result_pretty)"
   ]
  },
  {
   "cell_type": "code",
<<<<<<< HEAD
   "execution_count": 58,
   "metadata": {
    "collapsed": false
   },
=======
   "execution_count": 40,
   "metadata": {},
>>>>>>> f228f97c85ea8c226719c2603638be10937cfd10
   "outputs": [
    {
     "data": {
      "image/png": "iVBORw0KGgoAAAANSUhEUgAAAY8AAAEKCAYAAADq59mMAAAABHNCSVQICAgIfAhkiAAAAAlwSFlz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\n",
      "text/plain": [
       "<matplotlib.figure.Figure at 0x116f5ce50>"
      ]
     },
     "metadata": {},
     "output_type": "display_data"
    }
   ],
   "source": [
    "plt.plot(grid_result[:,0], grid_result[:,2:5])\n",
    "plt.legend([\"Val. Precision\", \"Val. Recall\", \"Val. F1\"])\n",
    "plt.xlabel(\"Threshold\")\n",
    "plt.ylabel(\"Score\")\n",
    "plt.show()"
   ]
  },
  {
   "cell_type": "code",
<<<<<<< HEAD
   "execution_count": 59,
   "metadata": {
    "collapsed": false
   },
=======
   "execution_count": 41,
   "metadata": {},
>>>>>>> f228f97c85ea8c226719c2603638be10937cfd10
   "outputs": [
    {
     "name": "stdout",
     "output_type": "stream",
     "text": [
      "Training Score - Precision: 0.7090, Recall: 0.7644, F1: 0.7357\n"
     ]
    }
   ],
   "source": [
    "print \"Training Score -\", pp.score(y_train, ovr_lr.predict_proba(X_train) > .3)"
   ]
  },
  {
   "cell_type": "code",
   "execution_count": 60,
   "metadata": {
    "collapsed": true
   },
   "outputs": [],
   "source": [
    "ovr_lr.fit(X, y)\n",
    "lr_test_preds = ovr_lr.predict_proba(X_test) > .3\n",
    "lr_test_pred_str = pp.labelMatrixToString(lr_test_preds.astype(int))\n",
    "# pp.predStringToFile(lr_test_pred_str, \"./data/tags.tsv\")"
   ]
  },
  {
   "cell_type": "markdown",
   "metadata": {},
   "source": [
    "### Feedforward Neural Network"
   ]
  },
  {
   "cell_type": "markdown",
   "metadata": {},
   "source": [
    "I consider a simple neural network on the same input to compare model performance. The code below is adapted from Udacity's deep learning course."
   ]
  },
  {
   "cell_type": "code",
   "execution_count": 35,
   "metadata": {
    "collapsed": true
   },
   "outputs": [],
   "source": [
    "batch_size = 256\n",
    "beta = 0.001\n",
    "n_hidden_nodes = 256\n",
    "num_steps = 4001"
   ]
  },
  {
   "cell_type": "markdown",
   "metadata": {},
   "source": [
    "My model architecture consists of one hidden layer with ReLU activation and sigmoid activation on the output layer to accommodate for the multi-label nature of the output. First, I set up the computational graph in TensorFlow. I use Stochastic Gradient Descent and L2 regularization for training."
   ]
  },
  {
   "cell_type": "code",
   "execution_count": 36,
   "metadata": {
    "collapsed": true
   },
   "outputs": [],
   "source": [
    "graph = tf.Graph()\n",
    "with graph.as_default():\n",
    "    # Datasets\n",
    "    tf_train_dataset = tf.placeholder(tf.float32, shape=(batch_size, X_train.shape[1]))\n",
    "    tf_train_labels = tf.placeholder(tf.float32, shape=(batch_size, y_train.shape[1]))\n",
    "    tf_valid_dataset = tf.constant(X_val.todense(), dtype=tf.float32)\n",
    "\n",
    "    # Variables.\n",
    "    W1 = tf.Variable(tf.truncated_normal([X_train.shape[1], n_hidden_nodes]))\n",
    "    b1 = tf.Variable(tf.zeros([n_hidden_nodes]))\n",
    "    W2 = tf.Variable(tf.truncated_normal([n_hidden_nodes, y_train.shape[1]]))\n",
    "    b2 = tf.Variable(tf.zeros([y_train.shape[1]]))\n",
    "\n",
    "    # Training computation.\n",
    "    h1 = tf.matmul(tf_train_dataset, W1) + b1\n",
    "    logits = tf.matmul(tf.nn.relu(h1), W2) + b2\n",
    "    loss = tf.reduce_mean(tf.nn.sigmoid_cross_entropy_with_logits(labels=tf_train_labels, logits=logits))\n",
    "    regularizer = tf.nn.l2_loss(W1) + tf.nn.l2_loss(W2)\n",
    "\n",
    "    # Optimizer.\n",
    "    optimizer = tf.train.GradientDescentOptimizer(0.5).minimize(loss + beta*regularizer)\n",
    "\n",
    "    # Predictions for the training and validation data.\n",
    "    train_prediction = tf.nn.sigmoid(logits)\n",
    "    valid_prediction = tf.nn.sigmoid(tf.matmul(tf.nn.relu(tf.matmul(tf_valid_dataset, W1) + b1), W2) + b2)"
   ]
  },
  {
   "cell_type": "markdown",
   "metadata": {},
   "source": [
    "During training I shuffle the training data between epochs. Because of the small size of this dataset, this does not add much overhead to training."
   ]
  },
  {
   "cell_type": "code",
   "execution_count": 37,
   "metadata": {},
   "outputs": [
    {
     "name": "stdout",
     "output_type": "stream",
     "text": [
      "Step 0\n",
      "\tMinibatch Scores  : P=0.1520, R=0.6683, F1=0.2477\n",
      "\tValidation Scores : P=0.1501, R=0.5002, F1=0.2309\n",
      "Step 500\n",
      "\tMinibatch Scores  : P=0.5900, R=0.6946, F1=0.6380\n",
      "\tValidation Scores : P=0.4930, R=0.5677, F1=0.5277\n",
      "Step 1000\n",
      "\tMinibatch Scores  : P=0.6744, R=0.7745, F1=0.7210\n",
      "\tValidation Scores : P=0.5130, R=0.6093, F1=0.5570\n",
      "Step 1500\n",
      "\tMinibatch Scores  : P=0.6906, R=0.7925, F1=0.7381\n",
      "\tValidation Scores : P=0.5577, R=0.6337, F1=0.5933\n",
      "Step 2000\n",
      "\tMinibatch Scores  : P=0.7590, R=0.7995, F1=0.7787\n",
      "\tValidation Scores : P=0.6110, R=0.6553, F1=0.6324\n",
      "Step 2500\n",
      "\tMinibatch Scores  : P=0.7603, R=0.8349, F1=0.7959\n",
      "\tValidation Scores : P=0.6417, R=0.6631, F1=0.6522\n",
      "Step 3000\n",
      "\tMinibatch Scores  : P=0.7655, R=0.8063, F1=0.7854\n",
      "\tValidation Scores : P=0.6580, R=0.6670, F1=0.6625\n",
      "Step 3500\n",
      "\tMinibatch Scores  : P=0.7277, R=0.7429, F1=0.7352\n",
      "\tValidation Scores : P=0.6594, R=0.6758, F1=0.6675\n",
      "Step 4000\n",
      "\tMinibatch Scores  : P=0.7451, R=0.7865, F1=0.7652\n",
      "\tValidation Scores : P=0.6640, R=0.6792, F1=0.6715\n"
     ]
    }
   ],
   "source": [
    "train_loss = list()\n",
    "minibatch_score = list()\n",
    "validation_score = list()\n",
    "with tf.Session(graph=graph) as session:\n",
    "    tf.global_variables_initializer().run()\n",
    "    prev_offset = 0\n",
    "    X_train_shuff = X_train.copy()\n",
    "    y_train_shuff = y_train.copy()\n",
    "    for step in range(num_steps):\n",
    "        offset = (step * batch_size) % (y_train.shape[0] - batch_size)\n",
    "        if offset < prev_offset:\n",
    "            order = np.arange(X_train.shape[0])\n",
    "            X_train_shuff = X_train_shuff[order]\n",
    "            y_train_shuff = y_train_shuff[order]\n",
    "        prev_offset = offset\n",
    "        batch_data = X_train_shuff[offset:(offset + batch_size), :]\n",
    "        batch_labels = y_train_shuff[offset:(offset + batch_size), :]\n",
    "        feed_dict = {tf_train_dataset : batch_data.todense(), tf_train_labels : batch_labels.todense()}\n",
    "        _, l, predictions = session.run([optimizer, loss, train_prediction], feed_dict=feed_dict)\n",
    "        train_loss.append((step, l))\n",
    "        if step % 500 == 0:\n",
    "            m = pp.score(batch_labels, predictions > .3, return_values = True)\n",
    "            v = pp.score(y_val, valid_prediction.eval() > .3, return_values = True)\n",
    "            print \"Step %s\" % step\n",
    "            print \"\\tMinibatch Scores  : P=%.4f, R=%.4f, F1=%.4f\" % m\n",
    "            print \"\\tValidation Scores : P=%.4f, R=%.4f, F1=%.4f\" % v\n",
    "            minibatch_score.append((step, m))\n",
    "            validation_score.append((step, v))"
   ]
  },
  {
   "cell_type": "code",
   "execution_count": 38,
   "metadata": {},
   "outputs": [
    {
     "data": {
      "image/png": "iVBORw0KGgoAAAANSUhEUgAAAYkAAAEZCAYAAABiu9n+AAAABHNCSVQICAgIfAhkiAAAAAlwSFlz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\nJNUyJCRJtf4/EIe8IRjECtAAAAAASUVORK5CYII=\n",
      "text/plain": [
       "<matplotlib.figure.Figure at 0x122d49990>"
      ]
     },
     "metadata": {},
     "output_type": "display_data"
    }
   ],
   "source": [
    "x, y = zip(*train_loss)\n",
    "plt.plot(x, y)\n",
    "plt.xlabel(\"Iteration\")\n",
    "plt.ylabel(\"Loss\")\n",
    "plt.title(\"Training Loss\")\n",
    "plt.show()"
   ]
  },
  {
   "cell_type": "code",
   "execution_count": 39,
   "metadata": {},
   "outputs": [
    {
     "data": {
      "image/png": "iVBORw0KGgoAAAANSUhEUgAAAYwAAAEZCAYAAACEkhK6AAAABHNCSVQICAgIfAhkiAAAAAlwSFlz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\n",
      "text/plain": [
       "<matplotlib.figure.Figure at 0x123640dd0>"
      ]
     },
     "metadata": {},
     "output_type": "display_data"
    }
   ],
   "source": [
    "x, y = zip(*minibatch_score)\n",
    "plt.plot(x, y)\n",
    "plt.title(\"Training Score\")\n",
    "plt.legend([\"Val. Precision\", \"Val. Recall\", \"Val. F1\"], loc=4)\n",
    "plt.xlabel(\"Iteration\")\n",
    "plt.ylabel(\"Score\")\n",
    "plt.show()"
   ]
  },
  {
   "cell_type": "code",
   "execution_count": 40,
   "metadata": {},
   "outputs": [
    {
     "data": {
      "image/png": "iVBORw0KGgoAAAANSUhEUgAAAYwAAAEZCAYAAACEkhK6AAAABHNCSVQICAgIfAhkiAAAAAlwSFlz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\n",
      "text/plain": [
       "<matplotlib.figure.Figure at 0x1237ecf90>"
      ]
     },
     "metadata": {},
     "output_type": "display_data"
    }
   ],
   "source": [
    "x, y = zip(*validation_score)\n",
    "plt.plot(x, y)\n",
    "plt.title(\"Validation Score\")\n",
    "plt.legend([\"Val. Precision\", \"Val. Recall\", \"Val. F1\"], loc=4)\n",
    "plt.xlabel(\"Iteration\")\n",
    "plt.ylabel(\"Score\")\n",
    "plt.show()"
   ]
  }
 ],
 "metadata": {
  "anaconda-cloud": {},
  "kernelspec": {
   "display_name": "Python 2",
   "language": "python",
   "name": "python2"
  },
  "language_info": {
   "codemirror_mode": {
    "name": "ipython",
    "version": 2
   },
   "file_extension": ".py",
   "mimetype": "text/x-python",
   "name": "python",
   "nbconvert_exporter": "python",
   "pygments_lexer": "ipython2",
   "version": "2.7.11"
  }
 },
 "nbformat": 4,
 "nbformat_minor": 1
}
