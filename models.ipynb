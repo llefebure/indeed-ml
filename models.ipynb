{
 "cells": [
  {
   "cell_type": "markdown",
   "metadata": {},
   "source": [
    "# Indeed Machine Learning Hackathon - Initial Model Building"
   ]
  },
  {
   "cell_type": "markdown",
   "metadata": {},
   "source": [
    "This notebook walks through the predictive models that I explored during the competition. The prediction file from the SVM model below is what I submitted to get my final ranking of 27/248."
   ]
  },
  {
   "cell_type": "code",
   "execution_count": 24,
   "metadata": {
    "collapsed": true
   },
   "outputs": [],
   "source": [
    "import preprocessing as pp\n",
    "import numpy as np\n",
    "import pandas as pd\n",
    "from IPython.display import display\n",
    "from sklearn.model_selection import train_test_split\n",
    "from sklearn.multiclass import OneVsRestClassifier\n",
    "from sklearn.svm import SVC\n",
    "from sklearn.linear_model import LogisticRegression\n",
    "import matplotlib.pyplot as plt\n",
    "%matplotlib inline"
   ]
  },
  {
   "cell_type": "code",
   "execution_count": 25,
   "metadata": {
    "collapsed": true
   },
   "outputs": [],
   "source": [
    "train = pp.JobDescriptionDataset(\"./data/train.tsv\")\n",
    "dt_matrix = train.getDTMatrix()\n",
    "corr_matrix = train.getCorrelationMatrix()\n",
    "corr_matrix_sort = (-corr_matrix).argsort()\n",
    "term_names = train.getTermNames()"
   ]
  },
  {
   "cell_type": "markdown",
   "metadata": {},
   "source": [
    "### Data Preprocessing"
   ]
  },
  {
   "cell_type": "markdown",
   "metadata": {},
   "source": [
    "I restrict my input document term matrix to include only terms that are in the top 15 most correlated with some tag."
   ]
  },
  {
   "cell_type": "code",
   "execution_count": 26,
   "metadata": {
    "collapsed": false
   },
   "outputs": [],
   "source": [
    "top_terms = np.array(list(set(corr_matrix_sort[:, :15].flatten().tolist()[0])))\n",
    "X = dt_matrix[:, top_terms]\n",
    "y = train.getBinarizedLabels()"
   ]
  },
  {
   "cell_type": "markdown",
   "metadata": {},
   "source": [
    "I hold out a 30% validation set for comparing models."
   ]
  },
  {
   "cell_type": "code",
   "execution_count": 27,
   "metadata": {
    "collapsed": true
   },
   "outputs": [],
   "source": [
    "X_train, X_val, y_train, y_val = train_test_split(X, y, test_size=0.3, random_state=24)"
   ]
  },
  {
   "cell_type": "markdown",
   "metadata": {},
   "source": [
    "Load in the test data and transform to match training data."
   ]
  },
  {
   "cell_type": "code",
   "execution_count": 28,
   "metadata": {
    "collapsed": true
   },
   "outputs": [],
   "source": [
    "test = pp.JobDescriptionDataset(\"./data/test.tsv\")\n",
    "test.setDTMatrix(vocab = np.array(train.getTermNames())[top_terms])\n",
    "X_test = test.getDTMatrix()"
   ]
  },
  {
   "cell_type": "markdown",
   "metadata": {},
   "source": [
    "### OneVsRest SVM"
   ]
  },
  {
   "cell_type": "code",
   "execution_count": 29,
   "metadata": {
    "collapsed": false
   },
   "outputs": [],
   "source": [
    "ovr_svm = OneVsRestClassifier(SVC(kernel = 'linear', probability = True, random_state = 20))\n",
    "ovr_svm.fit(X_train, y_train)\n",
    "ovr_svm_val_preds = ovr_svm.predict(X_val)"
   ]
  },
  {
   "cell_type": "code",
   "execution_count": 30,
   "metadata": {
    "collapsed": false
   },
   "outputs": [
    {
     "name": "stdout",
     "output_type": "stream",
     "text": [
      "Validation Score - Precision: 0.7627, Recall: 0.5892, F1: 0.6648\n",
      "Training Score - Precision: 0.8188, Recall: 0.6393, F1: 0.7180\n"
     ]
    }
   ],
   "source": [
    "print \"Validation Score -\", pp.score(y_val, ovr_svm_val_preds)\n",
    "print \"Training Score -\", pp.score(y_train, ovr_svm.predict(X_train))"
   ]
  },
  {
   "cell_type": "markdown",
   "metadata": {},
   "source": [
    "The precision is higher than the recall for this model which shows that it fails to predict many tags but does relatively well when it does predict a tag. This means that the model could likely benefit from predicting more tags to boost the true positive rate at the expense of increasing the false positive rate. In addition, the average number of tags predicted per sample in the validation set is significantly lower than the average number of tags per sample in the training set. This is another indication that the model could benefit from predicting more tags."
   ]
  },
  {
   "cell_type": "code",
   "execution_count": 31,
   "metadata": {
    "collapsed": false
   },
   "outputs": [
    {
     "name": "stdout",
     "output_type": "stream",
     "text": [
      "Average Tags Per Validation Prediction: 1.20335110434\n",
      "Average Tags Per Training Sample: 1.57903331156\n"
     ]
    }
   ],
   "source": [
    "print \"Average Tags Per Validation Prediction:\", 1.*ovr_svm_val_preds.sum()/ovr_svm_val_preds.shape[0]\n",
    "print \"Average Tags Per Training Sample:\", 1.*y_train.sum()/y_train.shape[0]"
   ]
  },
  {
   "cell_type": "markdown",
   "metadata": {},
   "source": [
    "We can boost the number of tags predicted by using SVM's probability estimates and lowering the threshold at which a sample is predicted to have a certain tag. We can choose this threshold by looking at performance results on the validation set using various threshold values."
   ]
  },
  {
   "cell_type": "code",
   "execution_count": 32,
   "metadata": {
    "collapsed": false
   },
   "outputs": [],
   "source": [
    "ovr_svm_val_preds_prob = ovr_svm.predict_proba(X_val)\n",
    "grid_result = list()\n",
    "for i in [.17 + incr for incr in np.divide(range(25), 100.)]:\n",
    "    row = [i, 1.*(ovr_svm_val_preds_prob > i).sum()/ovr_svm_val_preds_prob.shape[0]]\n",
    "    pred_matrix = ovr_svm_val_preds_prob > i\n",
    "    row += list(pp.score(y_val, pred_matrix, return_values = True))\n",
    "    grid_result.append(row)\n",
    "grid_result = np.array(grid_result)"
   ]
  },
  {
   "cell_type": "code",
   "execution_count": 33,
   "metadata": {
    "collapsed": false
   },
   "outputs": [
    {
     "data": {
      "text/html": [
       "<div>\n",
       "<table border=\"1\" class=\"dataframe\">\n",
       "  <thead>\n",
       "    <tr style=\"text-align: right;\">\n",
       "      <th></th>\n",
       "      <th>Threshold</th>\n",
       "      <th>Avg. Tags Per Prediction</th>\n",
       "      <th>Val. Precision</th>\n",
       "      <th>Val. Recall</th>\n",
       "      <th>Val. F1</th>\n",
       "    </tr>\n",
       "  </thead>\n",
       "  <tbody>\n",
       "    <tr>\n",
       "      <th>0</th>\n",
       "      <td>0.17</td>\n",
       "      <td>1.917746</td>\n",
       "      <td>0.608022</td>\n",
       "      <td>0.748655</td>\n",
       "      <td>0.671050</td>\n",
       "    </tr>\n",
       "    <tr>\n",
       "      <th>1</th>\n",
       "      <td>0.18</td>\n",
       "      <td>1.843869</td>\n",
       "      <td>0.624535</td>\n",
       "      <td>0.739364</td>\n",
       "      <td>0.677116</td>\n",
       "    </tr>\n",
       "    <tr>\n",
       "      <th>2</th>\n",
       "      <td>0.19</td>\n",
       "      <td>1.786748</td>\n",
       "      <td>0.637681</td>\n",
       "      <td>0.731540</td>\n",
       "      <td>0.681394</td>\n",
       "    </tr>\n",
       "    <tr>\n",
       "      <th>3</th>\n",
       "      <td>0.20</td>\n",
       "      <td>1.736481</td>\n",
       "      <td>0.648246</td>\n",
       "      <td>0.722738</td>\n",
       "      <td>0.683468</td>\n",
       "    </tr>\n",
       "    <tr>\n",
       "      <th>4</th>\n",
       "      <td>0.21</td>\n",
       "      <td>1.687738</td>\n",
       "      <td>0.659296</td>\n",
       "      <td>0.714425</td>\n",
       "      <td>0.685755</td>\n",
       "    </tr>\n",
       "    <tr>\n",
       "      <th>5</th>\n",
       "      <td>0.22</td>\n",
       "      <td>1.644326</td>\n",
       "      <td>0.667439</td>\n",
       "      <td>0.704645</td>\n",
       "      <td>0.685538</td>\n",
       "    </tr>\n",
       "    <tr>\n",
       "      <th>6</th>\n",
       "      <td>0.23</td>\n",
       "      <td>1.603960</td>\n",
       "      <td>0.676638</td>\n",
       "      <td>0.696822</td>\n",
       "      <td>0.686582</td>\n",
       "    </tr>\n",
       "    <tr>\n",
       "      <th>7</th>\n",
       "      <td>0.24</td>\n",
       "      <td>1.561310</td>\n",
       "      <td>0.684878</td>\n",
       "      <td>0.686553</td>\n",
       "      <td>0.685714</td>\n",
       "    </tr>\n",
       "    <tr>\n",
       "      <th>8</th>\n",
       "      <td>0.25</td>\n",
       "      <td>1.525514</td>\n",
       "      <td>0.691962</td>\n",
       "      <td>0.677751</td>\n",
       "      <td>0.684783</td>\n",
       "    </tr>\n",
       "    <tr>\n",
       "      <th>9</th>\n",
       "      <td>0.26</td>\n",
       "      <td>1.495050</td>\n",
       "      <td>0.698421</td>\n",
       "      <td>0.670416</td>\n",
       "      <td>0.684132</td>\n",
       "    </tr>\n",
       "    <tr>\n",
       "      <th>10</th>\n",
       "      <td>0.27</td>\n",
       "      <td>1.463823</td>\n",
       "      <td>0.706035</td>\n",
       "      <td>0.663570</td>\n",
       "      <td>0.684144</td>\n",
       "    </tr>\n",
       "    <tr>\n",
       "      <th>11</th>\n",
       "      <td>0.28</td>\n",
       "      <td>1.436405</td>\n",
       "      <td>0.710498</td>\n",
       "      <td>0.655257</td>\n",
       "      <td>0.681760</td>\n",
       "    </tr>\n",
       "    <tr>\n",
       "      <th>12</th>\n",
       "      <td>0.29</td>\n",
       "      <td>1.415080</td>\n",
       "      <td>0.714209</td>\n",
       "      <td>0.648900</td>\n",
       "      <td>0.679990</td>\n",
       "    </tr>\n",
       "    <tr>\n",
       "      <th>13</th>\n",
       "      <td>0.30</td>\n",
       "      <td>1.392232</td>\n",
       "      <td>0.718271</td>\n",
       "      <td>0.642054</td>\n",
       "      <td>0.678027</td>\n",
       "    </tr>\n",
       "    <tr>\n",
       "      <th>14</th>\n",
       "      <td>0.31</td>\n",
       "      <td>1.363290</td>\n",
       "      <td>0.724581</td>\n",
       "      <td>0.634230</td>\n",
       "      <td>0.676402</td>\n",
       "    </tr>\n",
       "    <tr>\n",
       "      <th>15</th>\n",
       "      <td>0.32</td>\n",
       "      <td>1.341965</td>\n",
       "      <td>0.728717</td>\n",
       "      <td>0.627873</td>\n",
       "      <td>0.674547</td>\n",
       "    </tr>\n",
       "    <tr>\n",
       "      <th>16</th>\n",
       "      <td>0.33</td>\n",
       "      <td>1.329018</td>\n",
       "      <td>0.731805</td>\n",
       "      <td>0.624450</td>\n",
       "      <td>0.673879</td>\n",
       "    </tr>\n",
       "    <tr>\n",
       "      <th>17</th>\n",
       "      <td>0.34</td>\n",
       "      <td>1.309216</td>\n",
       "      <td>0.737056</td>\n",
       "      <td>0.619560</td>\n",
       "      <td>0.673220</td>\n",
       "    </tr>\n",
       "    <tr>\n",
       "      <th>18</th>\n",
       "      <td>0.35</td>\n",
       "      <td>1.293983</td>\n",
       "      <td>0.740436</td>\n",
       "      <td>0.615159</td>\n",
       "      <td>0.672009</td>\n",
       "    </tr>\n",
       "    <tr>\n",
       "      <th>19</th>\n",
       "      <td>0.36</td>\n",
       "      <td>1.270373</td>\n",
       "      <td>0.747002</td>\n",
       "      <td>0.609291</td>\n",
       "      <td>0.671155</td>\n",
       "    </tr>\n",
       "    <tr>\n",
       "      <th>20</th>\n",
       "      <td>0.37</td>\n",
       "      <td>1.251333</td>\n",
       "      <td>0.753500</td>\n",
       "      <td>0.605379</td>\n",
       "      <td>0.671367</td>\n",
       "    </tr>\n",
       "    <tr>\n",
       "      <th>21</th>\n",
       "      <td>0.38</td>\n",
       "      <td>1.235339</td>\n",
       "      <td>0.757090</td>\n",
       "      <td>0.600489</td>\n",
       "      <td>0.669757</td>\n",
       "    </tr>\n",
       "    <tr>\n",
       "      <th>22</th>\n",
       "      <td>0.39</td>\n",
       "      <td>1.218583</td>\n",
       "      <td>0.758750</td>\n",
       "      <td>0.593643</td>\n",
       "      <td>0.666118</td>\n",
       "    </tr>\n",
       "    <tr>\n",
       "      <th>23</th>\n",
       "      <td>0.40</td>\n",
       "      <td>1.201828</td>\n",
       "      <td>0.762357</td>\n",
       "      <td>0.588264</td>\n",
       "      <td>0.664091</td>\n",
       "    </tr>\n",
       "    <tr>\n",
       "      <th>24</th>\n",
       "      <td>0.41</td>\n",
       "      <td>1.182788</td>\n",
       "      <td>0.765615</td>\n",
       "      <td>0.581418</td>\n",
       "      <td>0.660923</td>\n",
       "    </tr>\n",
       "  </tbody>\n",
       "</table>\n",
       "</div>"
      ],
      "text/plain": [
       "    Threshold  Avg. Tags Per Prediction  Val. Precision  Val. Recall   Val. F1\n",
       "0        0.17                  1.917746        0.608022     0.748655  0.671050\n",
       "1        0.18                  1.843869        0.624535     0.739364  0.677116\n",
       "2        0.19                  1.786748        0.637681     0.731540  0.681394\n",
       "3        0.20                  1.736481        0.648246     0.722738  0.683468\n",
       "4        0.21                  1.687738        0.659296     0.714425  0.685755\n",
       "5        0.22                  1.644326        0.667439     0.704645  0.685538\n",
       "6        0.23                  1.603960        0.676638     0.696822  0.686582\n",
       "7        0.24                  1.561310        0.684878     0.686553  0.685714\n",
       "8        0.25                  1.525514        0.691962     0.677751  0.684783\n",
       "9        0.26                  1.495050        0.698421     0.670416  0.684132\n",
       "10       0.27                  1.463823        0.706035     0.663570  0.684144\n",
       "11       0.28                  1.436405        0.710498     0.655257  0.681760\n",
       "12       0.29                  1.415080        0.714209     0.648900  0.679990\n",
       "13       0.30                  1.392232        0.718271     0.642054  0.678027\n",
       "14       0.31                  1.363290        0.724581     0.634230  0.676402\n",
       "15       0.32                  1.341965        0.728717     0.627873  0.674547\n",
       "16       0.33                  1.329018        0.731805     0.624450  0.673879\n",
       "17       0.34                  1.309216        0.737056     0.619560  0.673220\n",
       "18       0.35                  1.293983        0.740436     0.615159  0.672009\n",
       "19       0.36                  1.270373        0.747002     0.609291  0.671155\n",
       "20       0.37                  1.251333        0.753500     0.605379  0.671367\n",
       "21       0.38                  1.235339        0.757090     0.600489  0.669757\n",
       "22       0.39                  1.218583        0.758750     0.593643  0.666118\n",
       "23       0.40                  1.201828        0.762357     0.588264  0.664091\n",
       "24       0.41                  1.182788        0.765615     0.581418  0.660923"
      ]
     },
     "metadata": {},
     "output_type": "display_data"
    }
   ],
   "source": [
    "grid_result_pretty = pd.DataFrame(grid_result)\n",
    "grid_result_pretty.columns = [\"Threshold\", \"Avg. Tags Per Prediction\", \"Val. Precision\", \"Val. Recall\", \"Val. F1\"]\n",
    "display(grid_result_pretty)"
   ]
  },
  {
   "cell_type": "code",
   "execution_count": 34,
   "metadata": {
    "collapsed": false
   },
   "outputs": [
    {
     "data": {
      "image/png": "[encoded data removed]",
      "text/plain": [
       "<matplotlib.figure.Figure at 0x11b4c5090>"
      ]
     },
     "metadata": {},
     "output_type": "display_data"
    }
   ],
   "source": [
    "plt.plot(grid_result[:,0], grid_result[:,2:5])\n",
    "plt.legend([\"Val. Precision\", \"Val. Recall\", \"Val. F1\"])\n",
    "plt.xlabel(\"Threshold\")\n",
    "plt.ylabel(\"Score\")\n",
    "plt.show()"
   ]
  },
  {
   "cell_type": "code",
   "execution_count": 35,
   "metadata": {
    "collapsed": false
   },
   "outputs": [
    {
     "name": "stdout",
     "output_type": "stream",
     "text": [
      "Training Score - Precision: 0.7497, Recall: 0.7297, F1: 0.7395\n"
     ]
    }
   ],
   "source": [
    "print \"Training Score -\", pp.score(y_train, ovr_svm.predict_proba(X_train) > .235)"
   ]
  },
  {
   "cell_type": "markdown",
   "metadata": {},
   "source": [
    "I'll fit this model on all the data to make test predictions."
   ]
  },
  {
   "cell_type": "code",
   "execution_count": 36,
   "metadata": {
    "collapsed": false
   },
   "outputs": [],
   "source": [
    "ovr_svm.fit(X, y)\n",
    "svm_test_preds = ovr_svm.predict_proba(X_test) > .235\n",
    "svm_test_pred_str = pp.labelMatrixToString(svm_test_preds.astype(int))\n",
    "# pp.predStringToFile(svm_test_pred_str, \"./data/tags.tsv\")"
   ]
  },
  {
   "cell_type": "markdown",
   "metadata": {},
   "source": [
    "### OneVsRest Logistic Regression"
   ]
  },
  {
   "cell_type": "code",
   "execution_count": 37,
   "metadata": {
    "collapsed": true
   },
   "outputs": [],
   "source": [
    "ovr_lr = OneVsRestClassifier(LogisticRegression(random_state = 10))\n",
    "ovr_lr.fit(X_train, y_train)\n",
    "ovr_lr_val_preds_prob = ovr_lr.predict_proba(X_val)"
   ]
  },
  {
   "cell_type": "code",
   "execution_count": 38,
   "metadata": {
    "collapsed": false
   },
   "outputs": [],
   "source": [
    "grid_result = list()\n",
    "for i in [.21 + incr for incr in np.divide(range(25), 100.)]:\n",
    "    row = [i, 1.*(ovr_lr_val_preds_prob > i).sum()/ovr_lr_val_preds_prob.shape[0]]\n",
    "    pred_matrix = ovr_lr_val_preds_prob > i\n",
    "    row += list(pp.score(y_val, pred_matrix, return_values = True))\n",
    "    grid_result.append(row)\n",
    "grid_result = np.array(grid_result)"
   ]
  },
  {
   "cell_type": "code",
   "execution_count": 39,
   "metadata": {
    "collapsed": false
   },
   "outputs": [
    {
     "data": {
      "text/html": [
       "<div>\n",
       "<table border=\"1\" class=\"dataframe\">\n",
       "  <thead>\n",
       "    <tr style=\"text-align: right;\">\n",
       "      <th></th>\n",
       "      <th>Threshold</th>\n",
       "      <th>Avg. Tags Per Prediction</th>\n",
       "      <th>Val. Precision</th>\n",
       "      <th>Val. Recall</th>\n",
       "      <th>Val. F1</th>\n",
       "    </tr>\n",
       "  </thead>\n",
       "  <tbody>\n",
       "    <tr>\n",
       "      <th>0</th>\n",
       "      <td>0.21</td>\n",
       "      <td>1.976390</td>\n",
       "      <td>0.603854</td>\n",
       "      <td>0.766259</td>\n",
       "      <td>0.675431</td>\n",
       "    </tr>\n",
       "    <tr>\n",
       "      <th>1</th>\n",
       "      <td>0.22</td>\n",
       "      <td>1.941356</td>\n",
       "      <td>0.610435</td>\n",
       "      <td>0.760880</td>\n",
       "      <td>0.677405</td>\n",
       "    </tr>\n",
       "    <tr>\n",
       "      <th>2</th>\n",
       "      <td>0.23</td>\n",
       "      <td>1.900990</td>\n",
       "      <td>0.618590</td>\n",
       "      <td>0.755012</td>\n",
       "      <td>0.680026</td>\n",
       "    </tr>\n",
       "    <tr>\n",
       "      <th>3</th>\n",
       "      <td>0.24</td>\n",
       "      <td>1.865956</td>\n",
       "      <td>0.625714</td>\n",
       "      <td>0.749633</td>\n",
       "      <td>0.682091</td>\n",
       "    </tr>\n",
       "    <tr>\n",
       "      <th>4</th>\n",
       "      <td>0.25</td>\n",
       "      <td>1.830922</td>\n",
       "      <td>0.632696</td>\n",
       "      <td>0.743765</td>\n",
       "      <td>0.683749</td>\n",
       "    </tr>\n",
       "    <tr>\n",
       "      <th>5</th>\n",
       "      <td>0.26</td>\n",
       "      <td>1.792079</td>\n",
       "      <td>0.641734</td>\n",
       "      <td>0.738386</td>\n",
       "      <td>0.686676</td>\n",
       "    </tr>\n",
       "    <tr>\n",
       "      <th>6</th>\n",
       "      <td>0.27</td>\n",
       "      <td>1.759330</td>\n",
       "      <td>0.649351</td>\n",
       "      <td>0.733496</td>\n",
       "      <td>0.688863</td>\n",
       "    </tr>\n",
       "    <tr>\n",
       "      <th>7</th>\n",
       "      <td>0.28</td>\n",
       "      <td>1.720487</td>\n",
       "      <td>0.656485</td>\n",
       "      <td>0.725183</td>\n",
       "      <td>0.689126</td>\n",
       "    </tr>\n",
       "    <tr>\n",
       "      <th>8</th>\n",
       "      <td>0.29</td>\n",
       "      <td>1.686215</td>\n",
       "      <td>0.663957</td>\n",
       "      <td>0.718826</td>\n",
       "      <td>0.690303</td>\n",
       "    </tr>\n",
       "    <tr>\n",
       "      <th>9</th>\n",
       "      <td>0.30</td>\n",
       "      <td>1.651181</td>\n",
       "      <td>0.672970</td>\n",
       "      <td>0.713447</td>\n",
       "      <td>0.692618</td>\n",
       "    </tr>\n",
       "    <tr>\n",
       "      <th>10</th>\n",
       "      <td>0.31</td>\n",
       "      <td>1.618431</td>\n",
       "      <td>0.679059</td>\n",
       "      <td>0.705623</td>\n",
       "      <td>0.692086</td>\n",
       "    </tr>\n",
       "    <tr>\n",
       "      <th>11</th>\n",
       "      <td>0.32</td>\n",
       "      <td>1.588728</td>\n",
       "      <td>0.682167</td>\n",
       "      <td>0.695844</td>\n",
       "      <td>0.688937</td>\n",
       "    </tr>\n",
       "    <tr>\n",
       "      <th>12</th>\n",
       "      <td>0.33</td>\n",
       "      <td>1.554455</td>\n",
       "      <td>0.687408</td>\n",
       "      <td>0.686064</td>\n",
       "      <td>0.686735</td>\n",
       "    </tr>\n",
       "    <tr>\n",
       "      <th>13</th>\n",
       "      <td>0.34</td>\n",
       "      <td>1.527037</td>\n",
       "      <td>0.692269</td>\n",
       "      <td>0.678729</td>\n",
       "      <td>0.685432</td>\n",
       "    </tr>\n",
       "    <tr>\n",
       "      <th>14</th>\n",
       "      <td>0.35</td>\n",
       "      <td>1.501904</td>\n",
       "      <td>0.696247</td>\n",
       "      <td>0.671394</td>\n",
       "      <td>0.683595</td>\n",
       "    </tr>\n",
       "    <tr>\n",
       "      <th>15</th>\n",
       "      <td>0.36</td>\n",
       "      <td>1.476771</td>\n",
       "      <td>0.700361</td>\n",
       "      <td>0.664059</td>\n",
       "      <td>0.681727</td>\n",
       "    </tr>\n",
       "    <tr>\n",
       "      <th>16</th>\n",
       "      <td>0.37</td>\n",
       "      <td>1.445545</td>\n",
       "      <td>0.706533</td>\n",
       "      <td>0.655746</td>\n",
       "      <td>0.680193</td>\n",
       "    </tr>\n",
       "    <tr>\n",
       "      <th>17</th>\n",
       "      <td>0.38</td>\n",
       "      <td>1.419650</td>\n",
       "      <td>0.711910</td>\n",
       "      <td>0.648900</td>\n",
       "      <td>0.678946</td>\n",
       "    </tr>\n",
       "    <tr>\n",
       "      <th>18</th>\n",
       "      <td>0.39</td>\n",
       "      <td>1.405941</td>\n",
       "      <td>0.712893</td>\n",
       "      <td>0.643521</td>\n",
       "      <td>0.676433</td>\n",
       "    </tr>\n",
       "    <tr>\n",
       "      <th>19</th>\n",
       "      <td>0.40</td>\n",
       "      <td>1.383854</td>\n",
       "      <td>0.717666</td>\n",
       "      <td>0.637653</td>\n",
       "      <td>0.675298</td>\n",
       "    </tr>\n",
       "    <tr>\n",
       "      <th>20</th>\n",
       "      <td>0.41</td>\n",
       "      <td>1.354912</td>\n",
       "      <td>0.721192</td>\n",
       "      <td>0.627384</td>\n",
       "      <td>0.671025</td>\n",
       "    </tr>\n",
       "    <tr>\n",
       "      <th>21</th>\n",
       "      <td>0.42</td>\n",
       "      <td>1.338919</td>\n",
       "      <td>0.722981</td>\n",
       "      <td>0.621516</td>\n",
       "      <td>0.668420</td>\n",
       "    </tr>\n",
       "    <tr>\n",
       "      <th>22</th>\n",
       "      <td>0.43</td>\n",
       "      <td>1.319117</td>\n",
       "      <td>0.726905</td>\n",
       "      <td>0.615648</td>\n",
       "      <td>0.666667</td>\n",
       "    </tr>\n",
       "    <tr>\n",
       "      <th>23</th>\n",
       "      <td>0.44</td>\n",
       "      <td>1.294745</td>\n",
       "      <td>0.730588</td>\n",
       "      <td>0.607335</td>\n",
       "      <td>0.663284</td>\n",
       "    </tr>\n",
       "    <tr>\n",
       "      <th>24</th>\n",
       "      <td>0.45</td>\n",
       "      <td>1.271135</td>\n",
       "      <td>0.736968</td>\n",
       "      <td>0.601467</td>\n",
       "      <td>0.662359</td>\n",
       "    </tr>\n",
       "  </tbody>\n",
       "</table>\n",
       "</div>"
      ],
      "text/plain": [
       "    Threshold  Avg. Tags Per Prediction  Val. Precision  Val. Recall   Val. F1\n",
       "0        0.21                  1.976390        0.603854     0.766259  0.675431\n",
       "1        0.22                  1.941356        0.610435     0.760880  0.677405\n",
       "2        0.23                  1.900990        0.618590     0.755012  0.680026\n",
       "3        0.24                  1.865956        0.625714     0.749633  0.682091\n",
       "4        0.25                  1.830922        0.632696     0.743765  0.683749\n",
       "5        0.26                  1.792079        0.641734     0.738386  0.686676\n",
       "6        0.27                  1.759330        0.649351     0.733496  0.688863\n",
       "7        0.28                  1.720487        0.656485     0.725183  0.689126\n",
       "8        0.29                  1.686215        0.663957     0.718826  0.690303\n",
       "9        0.30                  1.651181        0.672970     0.713447  0.692618\n",
       "10       0.31                  1.618431        0.679059     0.705623  0.692086\n",
       "11       0.32                  1.588728        0.682167     0.695844  0.688937\n",
       "12       0.33                  1.554455        0.687408     0.686064  0.686735\n",
       "13       0.34                  1.527037        0.692269     0.678729  0.685432\n",
       "14       0.35                  1.501904        0.696247     0.671394  0.683595\n",
       "15       0.36                  1.476771        0.700361     0.664059  0.681727\n",
       "16       0.37                  1.445545        0.706533     0.655746  0.680193\n",
       "17       0.38                  1.419650        0.711910     0.648900  0.678946\n",
       "18       0.39                  1.405941        0.712893     0.643521  0.676433\n",
       "19       0.40                  1.383854        0.717666     0.637653  0.675298\n",
       "20       0.41                  1.354912        0.721192     0.627384  0.671025\n",
       "21       0.42                  1.338919        0.722981     0.621516  0.668420\n",
       "22       0.43                  1.319117        0.726905     0.615648  0.666667\n",
       "23       0.44                  1.294745        0.730588     0.607335  0.663284\n",
       "24       0.45                  1.271135        0.736968     0.601467  0.662359"
      ]
     },
     "metadata": {},
     "output_type": "display_data"
    }
   ],
   "source": [
    "grid_result_pretty = pd.DataFrame(grid_result)\n",
    "grid_result_pretty.columns = [\"Threshold\", \"Avg. Tags Per Prediction\", \"Val. Precision\", \"Val. Recall\", \"Val. F1\"]\n",
    "display(grid_result_pretty)"
   ]
  },
  {
   "cell_type": "code",
   "execution_count": 40,
   "metadata": {
    "collapsed": false
   },
   "outputs": [
    {
     "data": {
      "image/png": "[encoded data removed]",
      "text/plain": [
       "<matplotlib.figure.Figure at 0x117f0c6d0>"
      ]
     },
     "metadata": {},
     "output_type": "display_data"
    }
   ],
   "source": [
    "plt.plot(grid_result[:,0], grid_result[:,2:5])\n",
    "plt.legend([\"Val. Precision\", \"Val. Recall\", \"Val. F1\"])\n",
    "plt.xlabel(\"Threshold\")\n",
    "plt.ylabel(\"Score\")\n",
    "plt.show()"
   ]
  },
  {
   "cell_type": "code",
   "execution_count": 41,
   "metadata": {
    "collapsed": false
   },
   "outputs": [
    {
     "name": "stdout",
     "output_type": "stream",
     "text": [
      "Training Score - Precision: 0.7090, Recall: 0.7644, F1: 0.7357\n"
     ]
    }
   ],
   "source": [
    "print \"Training Score -\", pp.score(y_train, ovr_lr.predict_proba(X_train) > .3)"
   ]
  },
  {
   "cell_type": "code",
   "execution_count": 42,
   "metadata": {
    "collapsed": true
   },
   "outputs": [],
   "source": [
    "ovr_lr.fit(X, y)\n",
    "lr_test_preds = ovr_lr.predict_proba(X_test) > .3\n",
    "lr_test_pred_str = pp.labelMatrixToString(lr_test_preds.astype(int))\n",
    "# pp.predStringToFile(lr_test_pred_str, \"./data/tags.tsv\")"
   ]
  }
 ],
 "metadata": {
  "anaconda-cloud": {},
  "kernelspec": {
   "display_name": "Python [Root]",
   "language": "python",
   "name": "Python [Root]"
  },
  "language_info": {
   "codemirror_mode": {
    "name": "ipython",
    "version": 2
   },
   "file_extension": ".py",
   "mimetype": "text/x-python",
   "name": "python",
   "nbconvert_exporter": "python",
   "pygments_lexer": "ipython2",
   "version": "2.7.12"
  }
 },
 "nbformat": 4,
 "nbformat_minor": 0
}
