{
 "cells": [
  {
   "cell_type": "markdown",
   "metadata": {},
   "source": [
    "# Indeed Machine Learning Hackathon - Exploratory Analysis"
   ]
  },
  {
   "cell_type": "markdown",
   "metadata": {},
   "source": [
    "This notebook walks through some initial analysis and baseline scoring that I did."
   ]
  },
  {
   "cell_type": "code",
   "execution_count": 61,
   "metadata": {
    "collapsed": false
   },
   "outputs": [],
   "source": [
    "import preprocessing as pp\n",
    "import re\n",
    "from IPython.display import display\n",
    "from sklearn.preprocessing import MultiLabelBinarizer\n",
    "import pandas as pd\n",
    "import numpy as np"
   ]
  },
  {
   "cell_type": "code",
   "execution_count": 62,
   "metadata": {
    "collapsed": false
   },
   "outputs": [],
   "source": [
    "train = pp.JobDescriptionDataset(\"./data/train.tsv\")"
   ]
  },
  {
   "cell_type": "code",
   "execution_count": 63,
   "metadata": {
    "collapsed": false
   },
   "outputs": [],
   "source": [
    "dt_matrix = train.getDTMatrix()"
   ]
  },
  {
   "cell_type": "markdown",
   "metadata": {},
   "source": [
    "### Descriptive Analysis"
   ]
  },
  {
   "cell_type": "markdown",
   "metadata": {},
   "source": [
    "First, I look at the tag frequency in the training set."
   ]
  },
  {
   "cell_type": "code",
   "execution_count": 64,
   "metadata": {
    "collapsed": false
   },
   "outputs": [
    {
     "data": {
      "text/html": [
       "<div>\n",
       "<table border=\"1\" class=\"dataframe\">\n",
       "  <thead>\n",
       "    <tr style=\"text-align: right;\">\n",
       "      <th></th>\n",
       "      <th>Tag</th>\n",
       "      <th>Frequency</th>\n",
       "    </tr>\n",
       "  </thead>\n",
       "  <tbody>\n",
       "    <tr>\n",
       "      <th>0</th>\n",
       "      <td>2-4-years-experience-needed</td>\n",
       "      <td>1043</td>\n",
       "    </tr>\n",
       "    <tr>\n",
       "      <th>1</th>\n",
       "      <td>bs-degree-needed</td>\n",
       "      <td>970</td>\n",
       "    </tr>\n",
       "    <tr>\n",
       "      <th>2</th>\n",
       "      <td>full-time-job</td>\n",
       "      <td>885</td>\n",
       "    </tr>\n",
       "    <tr>\n",
       "      <th>3</th>\n",
       "      <td>supervising-job</td>\n",
       "      <td>751</td>\n",
       "    </tr>\n",
       "    <tr>\n",
       "      <th>4</th>\n",
       "      <td>salary</td>\n",
       "      <td>669</td>\n",
       "    </tr>\n",
       "    <tr>\n",
       "      <th>5</th>\n",
       "      <td>5-plus-years-experience-needed</td>\n",
       "      <td>636</td>\n",
       "    </tr>\n",
       "    <tr>\n",
       "      <th>6</th>\n",
       "      <td>licence-needed</td>\n",
       "      <td>524</td>\n",
       "    </tr>\n",
       "    <tr>\n",
       "      <th>7</th>\n",
       "      <td>hourly-wage</td>\n",
       "      <td>451</td>\n",
       "    </tr>\n",
       "    <tr>\n",
       "      <th>8</th>\n",
       "      <td>1-year-experience-needed</td>\n",
       "      <td>331</td>\n",
       "    </tr>\n",
       "    <tr>\n",
       "      <th>9</th>\n",
       "      <td>part-time-job</td>\n",
       "      <td>328</td>\n",
       "    </tr>\n",
       "    <tr>\n",
       "      <th>10</th>\n",
       "      <td>associate-needed</td>\n",
       "      <td>209</td>\n",
       "    </tr>\n",
       "    <tr>\n",
       "      <th>11</th>\n",
       "      <td>ms-or-phd-needed</td>\n",
       "      <td>83</td>\n",
       "    </tr>\n",
       "  </tbody>\n",
       "</table>\n",
       "</div>"
      ],
      "text/plain": [
       "                               Tag  Frequency\n",
       "0      2-4-years-experience-needed       1043\n",
       "1                 bs-degree-needed        970\n",
       "2                    full-time-job        885\n",
       "3                  supervising-job        751\n",
       "4                           salary        669\n",
       "5   5-plus-years-experience-needed        636\n",
       "6                   licence-needed        524\n",
       "7                      hourly-wage        451\n",
       "8         1-year-experience-needed        331\n",
       "9                    part-time-job        328\n",
       "10                associate-needed        209\n",
       "11                ms-or-phd-needed         83"
      ]
     },
     "metadata": {},
     "output_type": "display_data"
    }
   ],
   "source": [
    "label_cooccurrence = train.getLabelCooccurrence()\n",
    "count_pretty = pd.DataFrame(sorted(zip(pp.LABEL_LIST, label_cooccurence.diagonal()), key = lambda x: -x[1]))\n",
    "count_pretty.columns = [\"Tag\", \"Frequency\"]\n",
    "display(count_pretty)"
   ]
  },
  {
   "cell_type": "code",
   "execution_count": 65,
   "metadata": {
    "collapsed": false
   },
   "outputs": [
    {
     "name": "stdout",
     "output_type": "stream",
     "text": [
      "Average # of tags per sample:  1.57257142857\n"
     ]
    }
   ],
   "source": [
    "print \"Average # of tags per sample: \", 1.*sum(label_cooccurence.diagonal())/dt_matrix.shape[0]"
   ]
  },
  {
   "cell_type": "markdown",
   "metadata": {},
   "source": [
    "There are several training samples that are missing tags. In several cases, it seems like this is in error. For example, several contain the string 'full time' but aren't tagged with 'full-time-job'. Additionally, there are some generic job descriptions that advertise multiple roles and contain phrases like 'part and full time positions available'. It is unclear how these are supposed to be tagged."
   ]
  },
  {
   "cell_type": "code",
   "execution_count": 66,
   "metadata": {
    "collapsed": false
   },
   "outputs": [
    {
     "name": "stdout",
     "output_type": "stream",
     "text": [
      "Number of training samples without tags: 871\n"
     ]
    }
   ],
   "source": [
    "print \"Number of training samples without tags:\", np.sum(np.array(train.getRawY()) == '')"
   ]
  },
  {
   "cell_type": "code",
   "execution_count": 67,
   "metadata": {
    "collapsed": false
   },
   "outputs": [
    {
     "name": "stdout",
     "output_type": "stream",
     "text": [
      "Training samples without tags that contain 'full time': 33\n",
      "Training samples without tags that contain 'part time': 28\n"
     ]
    }
   ],
   "source": [
    "descriptions_missing_tags = np.array(train.getRawX())[np.array(train.getRawY()) == '']\n",
    "contain_full_time = [re.search(\".*full time.*\", d) is not None for d in descriptions_missing_tags]\n",
    "contain_part_time = [re.search(\".*part time.*\", d) is not None for d in descriptions_missing_tags]\n",
    "print \"Training samples without tags that contain 'full time':\", sum(contain_full_time)\n",
    "print \"Training samples without tags that contain 'part time':\", sum(contain_part_time)"
   ]
  },
  {
   "cell_type": "code",
   "execution_count": 68,
   "metadata": {
    "collapsed": false
   },
   "outputs": [
    {
     "data": {
      "text/plain": [
       "'ByteManagers is seeking Drill tool industrial supply  experts for long-term part and full time contract positions. Are you a product expert? Can you look at a picture of a drill bit, tooling component or motor and describe the product you\\xe2\\x80\\x99re looking at in minutes? Do you know what matters to a person looking to purchase a pair of industrial gloves or ball valve? If yes \\xe2\\x80\\x93 we\\xe2\\x80\\x99re looking for you. Skills:  \\xe2\\x80\\xa2 Expert knowledge of industrial supplies \\xe2\\x80\\xa2 Ability to identify products in detail by looking at an image \\xe2\\x80\\xa2 Knowledge of product features that are critical to the customer \\xe2\\x80\\xa2 Ability to learn new software   Headquarters: Chicago Candidate Location: Chicago (Preferable) Possibility of working remotely: ok but not desirable '"
      ]
     },
     "execution_count": 68,
     "metadata": {},
     "output_type": "execute_result"
    }
   ],
   "source": [
    "descriptions_missing_tags[3]"
   ]
  },
  {
   "cell_type": "markdown",
   "metadata": {},
   "source": [
    "As mentioned in the problem description, there are several tags that are mutually exclusive. The table below shows the cooccurrence frequency of various tags in the training set. The (i,j) element of this matrix indicates the proportion of samples in which the i'th tag was assigned given that the j'th tag was assigned."
   ]
  },
  {
   "cell_type": "markdown",
   "metadata": {},
   "source": [
    "We see that the following tuples are mutually exclusive. Note that 'full-time-job' and 'part-time-job' never cooccur, but there are job descriptions such as the one above that advertise \"part and full time positions\".\n",
    "* '1-year-experience-needed', '2-4-years-experience-neeed', '5-plus-years-experience-needed'\n",
    "* 'bs-degree-needed', 'associate-needed', 'ms-or-pd-needed', 'license-needed'\n",
    "* 'salary', 'hourly-wage'\n",
    "* 'full-time-job', 'part-time-job'"
   ]
  },
  {
   "cell_type": "code",
   "execution_count": 69,
   "metadata": {
    "collapsed": false
   },
   "outputs": [
    {
     "data": {
      "text/html": [
       "<div>\n",
       "<table border=\"1\" class=\"dataframe\">\n",
       "  <thead>\n",
       "    <tr style=\"text-align: right;\">\n",
       "      <th></th>\n",
       "      <th>1-year-experience-needed</th>\n",
       "      <th>2-4-years-experience-needed</th>\n",
       "      <th>5-plus-years-experience-needed</th>\n",
       "      <th>associate-needed</th>\n",
       "      <th>bs-degree-needed</th>\n",
       "      <th>full-time-job</th>\n",
       "      <th>hourly-wage</th>\n",
       "      <th>licence-needed</th>\n",
       "      <th>ms-or-phd-needed</th>\n",
       "      <th>part-time-job</th>\n",
       "      <th>salary</th>\n",
       "      <th>supervising-job</th>\n",
       "    </tr>\n",
       "  </thead>\n",
       "  <tbody>\n",
       "    <tr>\n",
       "      <th>1-year-experience-needed</th>\n",
       "      <td>1.000000</td>\n",
       "      <td>0.000000</td>\n",
       "      <td>0.000000</td>\n",
       "      <td>0.095694</td>\n",
       "      <td>0.067010</td>\n",
       "      <td>0.094915</td>\n",
       "      <td>0.079823</td>\n",
       "      <td>0.129771</td>\n",
       "      <td>0.060241</td>\n",
       "      <td>0.088415</td>\n",
       "      <td>0.074738</td>\n",
       "      <td>0.037284</td>\n",
       "    </tr>\n",
       "    <tr>\n",
       "      <th>2-4-years-experience-needed</th>\n",
       "      <td>0.000000</td>\n",
       "      <td>1.000000</td>\n",
       "      <td>0.000000</td>\n",
       "      <td>0.416268</td>\n",
       "      <td>0.358763</td>\n",
       "      <td>0.263277</td>\n",
       "      <td>0.146341</td>\n",
       "      <td>0.202290</td>\n",
       "      <td>0.253012</td>\n",
       "      <td>0.121951</td>\n",
       "      <td>0.272048</td>\n",
       "      <td>0.335553</td>\n",
       "    </tr>\n",
       "    <tr>\n",
       "      <th>5-plus-years-experience-needed</th>\n",
       "      <td>0.000000</td>\n",
       "      <td>0.000000</td>\n",
       "      <td>1.000000</td>\n",
       "      <td>0.119617</td>\n",
       "      <td>0.329897</td>\n",
       "      <td>0.149153</td>\n",
       "      <td>0.053215</td>\n",
       "      <td>0.080153</td>\n",
       "      <td>0.253012</td>\n",
       "      <td>0.018293</td>\n",
       "      <td>0.164425</td>\n",
       "      <td>0.304927</td>\n",
       "    </tr>\n",
       "    <tr>\n",
       "      <th>associate-needed</th>\n",
       "      <td>0.060423</td>\n",
       "      <td>0.083413</td>\n",
       "      <td>0.039308</td>\n",
       "      <td>1.000000</td>\n",
       "      <td>0.000000</td>\n",
       "      <td>0.055367</td>\n",
       "      <td>0.044346</td>\n",
       "      <td>0.000000</td>\n",
       "      <td>0.000000</td>\n",
       "      <td>0.045732</td>\n",
       "      <td>0.047833</td>\n",
       "      <td>0.046605</td>\n",
       "    </tr>\n",
       "    <tr>\n",
       "      <th>bs-degree-needed</th>\n",
       "      <td>0.196375</td>\n",
       "      <td>0.333653</td>\n",
       "      <td>0.503145</td>\n",
       "      <td>0.000000</td>\n",
       "      <td>1.000000</td>\n",
       "      <td>0.231638</td>\n",
       "      <td>0.082040</td>\n",
       "      <td>0.000000</td>\n",
       "      <td>0.000000</td>\n",
       "      <td>0.060976</td>\n",
       "      <td>0.267564</td>\n",
       "      <td>0.368842</td>\n",
       "    </tr>\n",
       "    <tr>\n",
       "      <th>full-time-job</th>\n",
       "      <td>0.253776</td>\n",
       "      <td>0.223394</td>\n",
       "      <td>0.207547</td>\n",
       "      <td>0.234450</td>\n",
       "      <td>0.211340</td>\n",
       "      <td>1.000000</td>\n",
       "      <td>0.303769</td>\n",
       "      <td>0.204198</td>\n",
       "      <td>0.277108</td>\n",
       "      <td>0.000000</td>\n",
       "      <td>0.388640</td>\n",
       "      <td>0.223702</td>\n",
       "    </tr>\n",
       "    <tr>\n",
       "      <th>hourly-wage</th>\n",
       "      <td>0.108761</td>\n",
       "      <td>0.063279</td>\n",
       "      <td>0.037736</td>\n",
       "      <td>0.095694</td>\n",
       "      <td>0.038144</td>\n",
       "      <td>0.154802</td>\n",
       "      <td>1.000000</td>\n",
       "      <td>0.068702</td>\n",
       "      <td>0.000000</td>\n",
       "      <td>0.347561</td>\n",
       "      <td>0.000000</td>\n",
       "      <td>0.039947</td>\n",
       "    </tr>\n",
       "    <tr>\n",
       "      <th>licence-needed</th>\n",
       "      <td>0.205438</td>\n",
       "      <td>0.101630</td>\n",
       "      <td>0.066038</td>\n",
       "      <td>0.000000</td>\n",
       "      <td>0.000000</td>\n",
       "      <td>0.120904</td>\n",
       "      <td>0.079823</td>\n",
       "      <td>1.000000</td>\n",
       "      <td>0.000000</td>\n",
       "      <td>0.125000</td>\n",
       "      <td>0.131540</td>\n",
       "      <td>0.083888</td>\n",
       "    </tr>\n",
       "    <tr>\n",
       "      <th>ms-or-phd-needed</th>\n",
       "      <td>0.015106</td>\n",
       "      <td>0.020134</td>\n",
       "      <td>0.033019</td>\n",
       "      <td>0.000000</td>\n",
       "      <td>0.000000</td>\n",
       "      <td>0.025989</td>\n",
       "      <td>0.000000</td>\n",
       "      <td>0.000000</td>\n",
       "      <td>1.000000</td>\n",
       "      <td>0.006098</td>\n",
       "      <td>0.029895</td>\n",
       "      <td>0.035952</td>\n",
       "    </tr>\n",
       "    <tr>\n",
       "      <th>part-time-job</th>\n",
       "      <td>0.087613</td>\n",
       "      <td>0.038351</td>\n",
       "      <td>0.009434</td>\n",
       "      <td>0.071770</td>\n",
       "      <td>0.020619</td>\n",
       "      <td>0.000000</td>\n",
       "      <td>0.252772</td>\n",
       "      <td>0.078244</td>\n",
       "      <td>0.024096</td>\n",
       "      <td>1.000000</td>\n",
       "      <td>0.025411</td>\n",
       "      <td>0.015979</td>\n",
       "    </tr>\n",
       "    <tr>\n",
       "      <th>salary</th>\n",
       "      <td>0.151057</td>\n",
       "      <td>0.174497</td>\n",
       "      <td>0.172956</td>\n",
       "      <td>0.153110</td>\n",
       "      <td>0.184536</td>\n",
       "      <td>0.293785</td>\n",
       "      <td>0.000000</td>\n",
       "      <td>0.167939</td>\n",
       "      <td>0.240964</td>\n",
       "      <td>0.051829</td>\n",
       "      <td>1.000000</td>\n",
       "      <td>0.222370</td>\n",
       "    </tr>\n",
       "    <tr>\n",
       "      <th>supervising-job</th>\n",
       "      <td>0.084592</td>\n",
       "      <td>0.241611</td>\n",
       "      <td>0.360063</td>\n",
       "      <td>0.167464</td>\n",
       "      <td>0.285567</td>\n",
       "      <td>0.189831</td>\n",
       "      <td>0.066519</td>\n",
       "      <td>0.120229</td>\n",
       "      <td>0.325301</td>\n",
       "      <td>0.036585</td>\n",
       "      <td>0.249626</td>\n",
       "      <td>1.000000</td>\n",
       "    </tr>\n",
       "  </tbody>\n",
       "</table>\n",
       "</div>"
      ],
      "text/plain": [
       "                                1-year-experience-needed  \\\n",
       "1-year-experience-needed                        1.000000   \n",
       "2-4-years-experience-needed                     0.000000   \n",
       "5-plus-years-experience-needed                  0.000000   \n",
       "associate-needed                                0.060423   \n",
       "bs-degree-needed                                0.196375   \n",
       "full-time-job                                   0.253776   \n",
       "hourly-wage                                     0.108761   \n",
       "licence-needed                                  0.205438   \n",
       "ms-or-phd-needed                                0.015106   \n",
       "part-time-job                                   0.087613   \n",
       "salary                                          0.151057   \n",
       "supervising-job                                 0.084592   \n",
       "\n",
       "                                2-4-years-experience-needed  \\\n",
       "1-year-experience-needed                           0.000000   \n",
       "2-4-years-experience-needed                        1.000000   \n",
       "5-plus-years-experience-needed                     0.000000   \n",
       "associate-needed                                   0.083413   \n",
       "bs-degree-needed                                   0.333653   \n",
       "full-time-job                                      0.223394   \n",
       "hourly-wage                                        0.063279   \n",
       "licence-needed                                     0.101630   \n",
       "ms-or-phd-needed                                   0.020134   \n",
       "part-time-job                                      0.038351   \n",
       "salary                                             0.174497   \n",
       "supervising-job                                    0.241611   \n",
       "\n",
       "                                5-plus-years-experience-needed  \\\n",
       "1-year-experience-needed                              0.000000   \n",
       "2-4-years-experience-needed                           0.000000   \n",
       "5-plus-years-experience-needed                        1.000000   \n",
       "associate-needed                                      0.039308   \n",
       "bs-degree-needed                                      0.503145   \n",
       "full-time-job                                         0.207547   \n",
       "hourly-wage                                           0.037736   \n",
       "licence-needed                                        0.066038   \n",
       "ms-or-phd-needed                                      0.033019   \n",
       "part-time-job                                         0.009434   \n",
       "salary                                                0.172956   \n",
       "supervising-job                                       0.360063   \n",
       "\n",
       "                                associate-needed  bs-degree-needed  \\\n",
       "1-year-experience-needed                0.095694          0.067010   \n",
       "2-4-years-experience-needed             0.416268          0.358763   \n",
       "5-plus-years-experience-needed          0.119617          0.329897   \n",
       "associate-needed                        1.000000          0.000000   \n",
       "bs-degree-needed                        0.000000          1.000000   \n",
       "full-time-job                           0.234450          0.211340   \n",
       "hourly-wage                             0.095694          0.038144   \n",
       "licence-needed                          0.000000          0.000000   \n",
       "ms-or-phd-needed                        0.000000          0.000000   \n",
       "part-time-job                           0.071770          0.020619   \n",
       "salary                                  0.153110          0.184536   \n",
       "supervising-job                         0.167464          0.285567   \n",
       "\n",
       "                                full-time-job  hourly-wage  licence-needed  \\\n",
       "1-year-experience-needed             0.094915     0.079823        0.129771   \n",
       "2-4-years-experience-needed          0.263277     0.146341        0.202290   \n",
       "5-plus-years-experience-needed       0.149153     0.053215        0.080153   \n",
       "associate-needed                     0.055367     0.044346        0.000000   \n",
       "bs-degree-needed                     0.231638     0.082040        0.000000   \n",
       "full-time-job                        1.000000     0.303769        0.204198   \n",
       "hourly-wage                          0.154802     1.000000        0.068702   \n",
       "licence-needed                       0.120904     0.079823        1.000000   \n",
       "ms-or-phd-needed                     0.025989     0.000000        0.000000   \n",
       "part-time-job                        0.000000     0.252772        0.078244   \n",
       "salary                               0.293785     0.000000        0.167939   \n",
       "supervising-job                      0.189831     0.066519        0.120229   \n",
       "\n",
       "                                ms-or-phd-needed  part-time-job    salary  \\\n",
       "1-year-experience-needed                0.060241       0.088415  0.074738   \n",
       "2-4-years-experience-needed             0.253012       0.121951  0.272048   \n",
       "5-plus-years-experience-needed          0.253012       0.018293  0.164425   \n",
       "associate-needed                        0.000000       0.045732  0.047833   \n",
       "bs-degree-needed                        0.000000       0.060976  0.267564   \n",
       "full-time-job                           0.277108       0.000000  0.388640   \n",
       "hourly-wage                             0.000000       0.347561  0.000000   \n",
       "licence-needed                          0.000000       0.125000  0.131540   \n",
       "ms-or-phd-needed                        1.000000       0.006098  0.029895   \n",
       "part-time-job                           0.024096       1.000000  0.025411   \n",
       "salary                                  0.240964       0.051829  1.000000   \n",
       "supervising-job                         0.325301       0.036585  0.249626   \n",
       "\n",
       "                                supervising-job  \n",
       "1-year-experience-needed               0.037284  \n",
       "2-4-years-experience-needed            0.335553  \n",
       "5-plus-years-experience-needed         0.304927  \n",
       "associate-needed                       0.046605  \n",
       "bs-degree-needed                       0.368842  \n",
       "full-time-job                          0.223702  \n",
       "hourly-wage                            0.039947  \n",
       "licence-needed                         0.083888  \n",
       "ms-or-phd-needed                       0.035952  \n",
       "part-time-job                          0.015979  \n",
       "salary                                 0.222370  \n",
       "supervising-job                        1.000000  "
      ]
     },
     "metadata": {},
     "output_type": "display_data"
    }
   ],
   "source": [
    "label_cooccurrence_scaled = label_cooccurrence * 1./label_cooccurrence.diagonal()\n",
    "label_cooccurrence_pretty = pd.DataFrame(label_cooccurrence_scaled)\n",
    "label_cooccurrence_pretty.columns = pp.LABEL_LIST\n",
    "label_cooccurrence_pretty.index = pp.LABEL_LIST\n",
    "display(label_cooccurrence_pretty)"
   ]
  },
  {
   "cell_type": "markdown",
   "metadata": {},
   "source": [
    "### Baselines"
   ]
  },
  {
   "cell_type": "markdown",
   "metadata": {},
   "source": [
    "I start by generating training scores for a few baseline models for comparison. "
   ]
  },
  {
   "cell_type": "markdown",
   "metadata": {},
   "source": [
    "#### Frequency Model"
   ]
  },
  {
   "cell_type": "markdown",
   "metadata": {},
   "source": [
    "These models simply predict the top N most frequent labels for N = {1, 2, 3, 4} for all samples."
   ]
  },
  {
   "cell_type": "code",
   "execution_count": 70,
   "metadata": {
    "collapsed": false
   },
   "outputs": [],
   "source": [
    "def baselineScore(tag, trueY):\n",
    "    binarizer = MultiLabelBinarizer(classes = pp.LABEL_LIST)\n",
    "    return pp.score(trueY, binarizer.fit_transform([tag.split(\" \")]*trueY.shape[0]))"
   ]
  },
  {
   "cell_type": "code",
   "execution_count": 71,
   "metadata": {
    "collapsed": false
   },
   "outputs": [
    {
     "name": "stdout",
     "output_type": "stream",
     "text": [
      "PopularTag1 - Precision: 0.2384, Recall: 0.1516, F1: 0.1853\n",
      "PopularTag2 - Precision: 0.2301, Recall: 0.2926, F1: 0.2576\n",
      "PopularTag3 - Precision: 0.2208, Recall: 0.4212, F1: 0.2897\n",
      "PopularTag4 - Precision: 0.2085, Recall: 0.5304, F1: 0.2993\n"
     ]
    }
   ],
   "source": [
    "trueY = train.getBinarizedLabels()\n",
    "tag_predictions = ['2-4-years-experience-needed', '2-4-years-experience-needed bs-degree-needed', \n",
    "                   '2-4-years-experience-needed bs-degree-needed full-time-job', \n",
    "                   '2-4-years-experience-needed bs-degree-needed full-time-job supervising-job']\n",
    "for i, t in enumerate(tag_predictions):\n",
    "    print \"PopularTag%s -\" % str(i + 1), baselineScore(t, trueY)"
   ]
  },
  {
   "cell_type": "markdown",
   "metadata": {},
   "source": [
    "#### Keyword Model"
   ]
  },
  {
   "cell_type": "markdown",
   "metadata": {},
   "source": [
    "Next, I'll look at the terms (unigrams/bigrams) most highly correlated with each label and build a model that predicts based off of the presence of correlated terms. More specifically, if a sample contains the top two terms for a given tag, then that sample is assigned that tag."
   ]
  },
  {
   "cell_type": "code",
   "execution_count": 72,
   "metadata": {
    "collapsed": true
   },
   "outputs": [],
   "source": [
    "corr_matrix = train.getCorrelationMatrix()\n",
    "corr_matrix_sort = (-corr_matrix).argsort()\n",
    "term_names = train.getTermNames()"
   ]
  },
  {
   "cell_type": "code",
   "execution_count": 73,
   "metadata": {
    "collapsed": false
   },
   "outputs": [],
   "source": [
    "top_terms = list()\n",
    "for i, t in enumerate(corr_matrix_sort[:, :5].tolist()):\n",
    "    top_terms.append([pp.LABEL_LIST[i]] + [term_names[j] for j in t])"
   ]
  },
  {
   "cell_type": "code",
   "execution_count": 74,
   "metadata": {
    "collapsed": false
   },
   "outputs": [
    {
     "data": {
      "text/html": [
       "<div>\n",
       "<table border=\"1\" class=\"dataframe\">\n",
       "  <thead>\n",
       "    <tr style=\"text-align: right;\">\n",
       "      <th></th>\n",
       "      <th>Tag</th>\n",
       "      <th>Term 1</th>\n",
       "      <th>Term 2</th>\n",
       "      <th>Term 3</th>\n",
       "      <th>Term 4</th>\n",
       "      <th>Term 5</th>\n",
       "    </tr>\n",
       "  </thead>\n",
       "  <tbody>\n",
       "    <tr>\n",
       "      <th>0</th>\n",
       "      <td>1-year-experience-needed</td>\n",
       "      <td>1 year</td>\n",
       "      <td>year</td>\n",
       "      <td>1</td>\n",
       "      <td>year of</td>\n",
       "      <td>1 year of</td>\n",
       "    </tr>\n",
       "    <tr>\n",
       "      <th>1</th>\n",
       "      <td>2-4-years-experience-needed</td>\n",
       "      <td>years</td>\n",
       "      <td>2 years</td>\n",
       "      <td>3 years</td>\n",
       "      <td>years of</td>\n",
       "      <td>2</td>\n",
       "    </tr>\n",
       "    <tr>\n",
       "      <th>2</th>\n",
       "      <td>5-plus-years-experience-needed</td>\n",
       "      <td>5 years</td>\n",
       "      <td>5</td>\n",
       "      <td>years</td>\n",
       "      <td>5 years of</td>\n",
       "      <td>5 years experience</td>\n",
       "    </tr>\n",
       "    <tr>\n",
       "      <th>3</th>\n",
       "      <td>associate-needed</td>\n",
       "      <td>associates degree</td>\n",
       "      <td>associates</td>\n",
       "      <td>associates degree or</td>\n",
       "      <td>degree</td>\n",
       "      <td>associates degree in</td>\n",
       "    </tr>\n",
       "    <tr>\n",
       "      <th>4</th>\n",
       "      <td>bs-degree-needed</td>\n",
       "      <td>degree</td>\n",
       "      <td>bachelors</td>\n",
       "      <td>bachelors degree</td>\n",
       "      <td>degree in</td>\n",
       "      <td>bachelor</td>\n",
       "    </tr>\n",
       "    <tr>\n",
       "      <th>5</th>\n",
       "      <td>full-time-job</td>\n",
       "      <td>full-time</td>\n",
       "      <td>full time</td>\n",
       "      <td>a full-time</td>\n",
       "      <td>full</td>\n",
       "      <td>a full time</td>\n",
       "    </tr>\n",
       "    <tr>\n",
       "      <th>6</th>\n",
       "      <td>hourly-wage</td>\n",
       "      <td>hour</td>\n",
       "      <td>per hour</td>\n",
       "      <td>hourly</td>\n",
       "      <td>00</td>\n",
       "      <td>00 per hour</td>\n",
       "    </tr>\n",
       "    <tr>\n",
       "      <th>7</th>\n",
       "      <td>licence-needed</td>\n",
       "      <td>nurse</td>\n",
       "      <td>rn</td>\n",
       "      <td>licensed</td>\n",
       "      <td>care</td>\n",
       "      <td>nursing</td>\n",
       "    </tr>\n",
       "    <tr>\n",
       "      <th>8</th>\n",
       "      <td>ms-or-phd-needed</td>\n",
       "      <td>masters</td>\n",
       "      <td>masters degree</td>\n",
       "      <td>masters degree in</td>\n",
       "      <td>clinical</td>\n",
       "      <td>of clinical</td>\n",
       "    </tr>\n",
       "    <tr>\n",
       "      <th>9</th>\n",
       "      <td>part-time-job</td>\n",
       "      <td>part time</td>\n",
       "      <td>part-time</td>\n",
       "      <td>a part time</td>\n",
       "      <td>a part-time</td>\n",
       "      <td>week</td>\n",
       "    </tr>\n",
       "    <tr>\n",
       "      <th>10</th>\n",
       "      <td>salary</td>\n",
       "      <td>salary</td>\n",
       "      <td>competitive salary</td>\n",
       "      <td>benefits</td>\n",
       "      <td>000</td>\n",
       "      <td>base salary</td>\n",
       "    </tr>\n",
       "    <tr>\n",
       "      <th>11</th>\n",
       "      <td>supervising-job</td>\n",
       "      <td>manager</td>\n",
       "      <td>leadership</td>\n",
       "      <td>management</td>\n",
       "      <td>management experience</td>\n",
       "      <td>ensure</td>\n",
       "    </tr>\n",
       "  </tbody>\n",
       "</table>\n",
       "</div>"
      ],
      "text/plain": [
       "                               Tag             Term 1              Term 2  \\\n",
       "0         1-year-experience-needed             1 year                year   \n",
       "1      2-4-years-experience-needed              years             2 years   \n",
       "2   5-plus-years-experience-needed            5 years                   5   \n",
       "3                 associate-needed  associates degree          associates   \n",
       "4                 bs-degree-needed             degree           bachelors   \n",
       "5                    full-time-job          full-time           full time   \n",
       "6                      hourly-wage               hour            per hour   \n",
       "7                   licence-needed              nurse                  rn   \n",
       "8                 ms-or-phd-needed            masters      masters degree   \n",
       "9                    part-time-job          part time           part-time   \n",
       "10                          salary             salary  competitive salary   \n",
       "11                 supervising-job            manager          leadership   \n",
       "\n",
       "                  Term 3                 Term 4                Term 5  \n",
       "0                      1                year of             1 year of  \n",
       "1                3 years               years of                     2  \n",
       "2                  years             5 years of    5 years experience  \n",
       "3   associates degree or                 degree  associates degree in  \n",
       "4       bachelors degree              degree in              bachelor  \n",
       "5            a full-time                   full           a full time  \n",
       "6                 hourly                     00           00 per hour  \n",
       "7               licensed                   care               nursing  \n",
       "8      masters degree in               clinical           of clinical  \n",
       "9            a part time            a part-time                  week  \n",
       "10              benefits                    000           base salary  \n",
       "11            management  management experience                ensure  "
      ]
     },
     "metadata": {},
     "output_type": "display_data"
    }
   ],
   "source": [
    "top_terms_table = pd.DataFrame(top_terms)\n",
    "top_terms_table.columns = [\"Tag\"] + [\"Term %s\" % str(i) for i in range(1, 6)]\n",
    "display(top_terms_table)"
   ]
  },
  {
   "cell_type": "code",
   "execution_count": 75,
   "metadata": {
    "collapsed": true
   },
   "outputs": [],
   "source": [
    "def topKeywordModel(dt_matrix, corr_matrix):\n",
    "    train_preds = list()\n",
    "    corr_matrix_sort = (-corr_matrix).argsort()\n",
    "    for i in range(dt_matrix.shape[0]):\n",
    "        pred = list()\n",
    "        for j in range(len(pp.LABEL_LIST)):\n",
    "            top_terms = corr_matrix_sort[j, :2].tolist()[0]\n",
    "            if dt_matrix[i, top_terms[0]] == 1 and dt_matrix[i, top_terms[1]] == 1:\n",
    "                pred.append(pp.LABEL_LIST[j])\n",
    "        train_preds.append(pred)\n",
    "    return MultiLabelBinarizer(classes = pp.LABEL_LIST).fit_transform(train_preds)"
   ]
  },
  {
   "cell_type": "code",
   "execution_count": 76,
   "metadata": {
    "collapsed": false
   },
   "outputs": [
    {
     "name": "stdout",
     "output_type": "stream",
     "text": [
      "Top Correlated Keyword -  Precision: 0.7556, Recall: 0.2359, F1: 0.3595\n"
     ]
    }
   ],
   "source": [
    "train_preds = topKeywordModel(dt_matrix, corr_matrix)\n",
    "print \"Top Correlated Keyword - \", pp.score(train.getBinarizedLabels(), train_preds)"
   ]
  },
  {
   "cell_type": "code",
   "execution_count": 77,
   "metadata": {
    "collapsed": false
   },
   "outputs": [
    {
     "name": "stdout",
     "output_type": "stream",
     "text": [
      "Average # of tags per prediction:  0.490971428571\n"
     ]
    }
   ],
   "source": [
    "print \"Average # of tags per prediction: \", 1.*train_preds.sum()/train_preds.shape[0]"
   ]
  },
  {
   "cell_type": "markdown",
   "metadata": {},
   "source": [
    "The keyword based model scores very highly in precision but suffers in recall. This makes sense since the model is fairly conservative. It only predicts a tag when a very specific and obvious set of keywords is present which limits the number of false positives, but this comes at the expense of a large number of false negatives. Another consequence of this conservativeness is that very few tags overall are predicted. The average number of tags per prediction is only about 31% of the average number of true tags per sample in the training set."
   ]
  }
 ],
 "metadata": {
  "anaconda-cloud": {},
  "kernelspec": {
   "display_name": "Python [Root]",
   "language": "python",
   "name": "Python [Root]"
  },
  "language_info": {
   "codemirror_mode": {
    "name": "ipython",
    "version": 2
   },
   "file_extension": ".py",
   "mimetype": "text/x-python",
   "name": "python",
   "nbconvert_exporter": "python",
   "pygments_lexer": "ipython2",
   "version": "2.7.12"
  }
 },
 "nbformat": 4,
 "nbformat_minor": 0
}
